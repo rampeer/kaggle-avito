{
 "cells": [
  {
   "cell_type": "code",
   "execution_count": 53,
   "metadata": {},
   "outputs": [],
   "source": [
    "import tensorflow as tf\n",
    "from keras import backend as K\n",
    "from keras.preprocessing import image\n",
    "from keras.applications.resnet50 import preprocess_input, decode_predictions\n",
    "import numpy as np\n",
    "from tqdm import *\n",
    "import zipfile\n",
    "from PIL import Image\n",
    "import keras\n",
    "import pickle\n",
    "# from keras import backend as K\n",
    "from __future__ import division, print_function\n",
    "\n",
    "from keras.utils import np_utils\n",
    "from sklearn.model_selection import train_test_split\n",
    "from sklearn.metrics import accuracy_score, confusion_matrix\n",
    "from random import shuffle\n",
    "import itertools\n",
    "import matplotlib.pyplot as plt\n",
    "from keras.optimizers import Adam\n",
    "\n",
    "import os\n",
    "import numpy as np\n",
    "import itertools\n",
    "\n",
    "import os\n",
    "%matplotlib inline"
   ]
  },
  {
   "cell_type": "code",
   "execution_count": 54,
   "metadata": {},
   "outputs": [],
   "source": [
    "base_path = \"/home/grozin/.kaggle/competitions/avito-demand-prediction/\"\n",
    "train_image_base_path = base_path + \"data/competition_files/train_jpg/\"\n",
    "test_image_base_path = base_path + \"data/competition_files/test_jpg/\""
   ]
  },
  {
   "cell_type": "code",
   "execution_count": 55,
   "metadata": {},
   "outputs": [],
   "source": [
    "import pandas as pd\n",
    "\n",
    "training = pd.read_csv(base_path + 'train.csv', index_col = \"item_id\", parse_dates = [\"activation_date\"])\n",
    "testing = pd.read_csv(base_path + 'test.csv', index_col = \"item_id\", parse_dates = [\"activation_date\"])\n",
    "testing_imgs = testing[\"image\"][~testing[\"image\"].isnull()]\n",
    "training_imgs = training[\"image\"][~training[\"image\"].isnull()]"
   ]
  },
  {
   "cell_type": "code",
   "execution_count": 56,
   "metadata": {},
   "outputs": [],
   "source": [
    "from scipy.stats import itemfreq\n",
    "import operator\n",
    "import cv2\n",
    "from skimage import feature\n",
    "from collections import defaultdict"
   ]
  },
  {
   "cell_type": "code",
   "execution_count": 57,
   "metadata": {},
   "outputs": [],
   "source": [
    "from os import listdir\n",
    "from os.path import isfile, join\n",
    "train_images = listdir(train_image_base_path)\n",
    "test_images = listdir(test_image_base_path)"
   ]
  },
  {
   "cell_type": "markdown",
   "metadata": {},
   "source": [
    "# Getting features"
   ]
  },
  {
   "cell_type": "code",
   "execution_count": null,
   "metadata": {},
   "outputs": [],
   "source": [
    "def color_analysis(img):\n",
    "    # obtain the color palatte of the image \n",
    "    palette = defaultdict(int)\n",
    "    for pixel in img.getdata():\n",
    "        palette[pixel] += 1\n",
    "    \n",
    "    # sort the colors present in the image \n",
    "    sorted_x = sorted(palette.items(), key=operator.itemgetter(1), reverse = True)\n",
    "    light_shade, dark_shade, shade_count, pixel_limit = 0, 0, 1, 25\n",
    "    for i, x in enumerate(sorted_x[:pixel_limit]):\n",
    "        if all(xx <= 20 for xx in x[0][:3]): ## dull : too much darkness \n",
    "            dark_shade += x[1]\n",
    "        if all(xx >= 240 for xx in x[0][:3]): ## bright : too much whiteness \n",
    "            light_shade += x[1]\n",
    "        shade_count += x[1]\n",
    "        \n",
    "    light_percent = round((float(light_shade)/shade_count)*100, 2)\n",
    "    dark_percent = round((float(dark_shade)/shade_count)*100, 2)\n",
    "    return light_percent, dark_percent\n",
    "\n",
    "def color_analysis2(img):\n",
    "    return np.sum(np.where(np.all(img < 20, axis=2))) / img.size, np.sum(np.where(np.all(img > 240, axis=2))) / img.size"
   ]
  },
  {
   "cell_type": "code",
   "execution_count": null,
   "metadata": {},
   "outputs": [],
   "source": [
    "def average_pixel_width(img):\n",
    "    im_array = np.asarray(img.convert(mode='L'))\n",
    "    edges_sigma1 = feature.canny(im_array, sigma=3)\n",
    "    apw = (float(np.sum(edges_sigma1)) / (img.size[0]*img.size[1]))\n",
    "    return apw*100"
   ]
  },
  {
   "cell_type": "code",
   "execution_count": null,
   "metadata": {},
   "outputs": [],
   "source": [
    "img_f = image.load_img(train_image_base_path + train_images[123])\n",
    "target_size = (224, 224)\n",
    "img_rescaled = img_f.resize(target_size)\n",
    "img_rescaled = image.img_to_array(img_rescaled)\n",
    "\n",
    "dom_c = get_dominant_color(cv2.cvtColor(img_rescaled, cv2.COLOR_RGB2YUV))\n",
    "print(dom_c)"
   ]
  },
  {
   "cell_type": "code",
   "execution_count": null,
   "metadata": {
    "scrolled": true
   },
   "outputs": [],
   "source": [
    "np.array([get_dominant_color(cv2.cvtColor(np.array([[[227.707    ,  -1.8158445,  -1.8740396]]]), cv2.COLOR_YUV2RGB))])"
   ]
  },
  {
   "cell_type": "code",
   "execution_count": null,
   "metadata": {},
   "outputs": [],
   "source": [
    "cv2.cvtColor(cv2.cvtColor(img_rescaled[:1, :1, :], cv2.COLOR_RGB2YUV), cv2.COLOR_YUV2RGB)"
   ]
  },
  {
   "cell_type": "code",
   "execution_count": null,
   "metadata": {},
   "outputs": [],
   "source": [
    "img_rescaled[:1, :1, :]"
   ]
  },
  {
   "cell_type": "code",
   "execution_count": null,
   "metadata": {},
   "outputs": [],
   "source": [
    "def get_average_color(img):\n",
    "    average_color = [img[:, :, i].mean() for i in range(img.shape[-1])]\n",
    "    return average_color"
   ]
  },
  {
   "cell_type": "code",
   "execution_count": null,
   "metadata": {},
   "outputs": [],
   "source": [
    "def get_size(filename):\n",
    "    filename = filename\n",
    "    st = os.stat(filename)\n",
    "    return st.st_size\n",
    "\n",
    "def get_dimensions(img):\n",
    "    img_size = img.size\n",
    "    return img_size"
   ]
  },
  {
   "cell_type": "code",
   "execution_count": null,
   "metadata": {},
   "outputs": [],
   "source": [
    "def get_blurrness_score(img):\n",
    "    image = cv2.cvtColor(img, cv2.COLOR_BGR2GRAY)\n",
    "    fm = cv2.Laplacian(image, cv2.CV_64F).var()\n",
    "    return fm"
   ]
  },
  {
   "cell_type": "code",
   "execution_count": null,
   "metadata": {},
   "outputs": [],
   "source": [
    "import keras.applications.inception_v3 as inception_v3\n",
    "\n",
    "def classify_by_model(model, bak, img):\n",
    "    \"\"\"Classify image and return top match.\"\"\"\n",
    "    x = bak.preprocess_input(img)\n",
    "    preds = model.predict(x)\n",
    "    return int(np.argmax(preds)), np.max(preds) # bak.decode_predictions(preds, top=1)[0][0]"
   ]
  },
  {
   "cell_type": "code",
   "execution_count": null,
   "metadata": {},
   "outputs": [],
   "source": [
    "def get_simple_img_features(filename, inception_model):\n",
    "    img_f = image.load_img(filename)\n",
    "    img = image.img_to_array(img_f)\n",
    "    \n",
    "    target_size = (224, 224)\n",
    "    img_rescaled = img_f.resize(target_size)\n",
    "    img_rescaled = np.array([image.img_to_array(img_rescaled)])\n",
    "    \n",
    "    return np.array(\n",
    "        [get_blurrness_score(np.array(img, np.uint16)),\n",
    "          get_size(filename), \n",
    "          get_dimensions(img),\n",
    "          img.shape[0], img.shape[1], \n",
    "          *get_average_color(img),\n",
    "          average_pixel_width(img_f),\n",
    "          *color_analysis2(img),\n",
    "          *classify_by_model(inception_model, inception_v3, img_rescaled)\n",
    "        ])"
   ]
  },
  {
   "cell_type": "code",
   "execution_count": null,
   "metadata": {},
   "outputs": [],
   "source": [
    "simple_img_features_names = [\n",
    "    \"burrness\", \n",
    "    \"size\", \"dims\",\n",
    "    \"w\", \"h\", \n",
    "    \"avg_color_r\", \"avg_color_g\", \"avg_color_b\",\n",
    "    \"pixel_w\",\n",
    "    \"light\", \"darkness\", \"img_class\", \"img_proba\"]"
   ]
  },
  {
   "cell_type": "code",
   "execution_count": null,
   "metadata": {},
   "outputs": [],
   "source": [
    "import traceback\n"
   ]
  },
  {
   "cell_type": "code",
   "execution_count": null,
   "metadata": {},
   "outputs": [],
   "source": [
    "import threading\n",
    "from time import time\n",
    "\n",
    "def process_img_features(worker_id, imgs_full_paths, imgs):\n",
    "    with open(str(worker_id) + \"_img.pickle\", \"wb\") as f:\n",
    "        graph1 = tf.Graph()\n",
    "        with graph1.as_default():\n",
    "            with tf.Session(graph=graph1) as sess:\n",
    "                inception_model = inception_v3.InceptionV3(weights='imagenet')\n",
    "                start_time = time()\n",
    "                for i, (img_full_path, img_tag) in enumerate(zip(imgs_full_paths, imgs)):\n",
    "                    try:\n",
    "                        if i % 150 == 0:\n",
    "                            dt = int(time() - start_time)\n",
    "                            print(worker_id, i, \"/\", len(imgs), \" (time from start: \", dt, \")\")\n",
    "                            speed = float(i + 1) / float(dt + 1.0)\n",
    "                            print((len(imgs) - i) / speed)\n",
    "                        pickle.dump((img_tag, get_simple_img_features(img_full_path, inception_model)), f)\n",
    "                    except:\n",
    "                        traceback.print_exc()"
   ]
  },
  {
   "cell_type": "code",
   "execution_count": null,
   "metadata": {},
   "outputs": [],
   "source": [
    "imgs = []\n",
    "img_full_paths = []\n",
    "for x in testing_imgs:\n",
    "    imgs.append(x)\n",
    "    img_full_paths.append(test_image_base_path + x + \".jpg\")\n",
    "    \n",
    "for x in training_imgs:\n",
    "    imgs.append(x)\n",
    "    img_full_paths.append(train_image_base_path + x + \".jpg\")"
   ]
  },
  {
   "cell_type": "code",
   "execution_count": null,
   "metadata": {},
   "outputs": [],
   "source": [
    "# imgs = imgs[:4000]\n",
    "# img_full_paths = img_full_paths[:4000]"
   ]
  },
  {
   "cell_type": "code",
   "execution_count": null,
   "metadata": {},
   "outputs": [],
   "source": [
    "thread_count = 8\n",
    "threads = []\n",
    "\n",
    "for i, thread_fp, thread_imgs in zip(range(thread_count),\n",
    "           np.array_split(np.array(img_full_paths), thread_count),\n",
    "           np.array_split(np.array(imgs), thread_count)):\n",
    "    threads.append(threading.Thread(target=process_img_features, args = ([i, thread_fp, thread_imgs])))"
   ]
  },
  {
   "cell_type": "code",
   "execution_count": null,
   "metadata": {
    "scrolled": true
   },
   "outputs": [],
   "source": [
    "for i in range(thread_count):\n",
    "    threads[i].start()\n",
    "for i in range(thread_count):\n",
    "    threads[i].join()"
   ]
  },
  {
   "cell_type": "markdown",
   "metadata": {},
   "source": [
    "## Throwing in few classifier features"
   ]
  },
  {
   "cell_type": "code",
   "execution_count": null,
   "metadata": {},
   "outputs": [],
   "source": [
    "inception_model = inception_v3.InceptionV3(weights='imagenet')\n",
    "vgg_model = vgg19.VGG19(weights='imagenet')"
   ]
  },
  {
   "cell_type": "code",
   "execution_count": null,
   "metadata": {},
   "outputs": [],
   "source": [
    "img = Image.open(train_image_base_path + train_images[5])\n",
    "target_size = (224, 224)\n",
    "if img.size != target_size:\n",
    "    img = img.resize(target_size)\n",
    "img = np.array([image.img_to_array(img)])\n",
    "\n",
    "x = inception_v3.preprocess_input(img)\n",
    "preds = inception_model.predict(x)"
   ]
  },
  {
   "cell_type": "code",
   "execution_count": null,
   "metadata": {
    "scrolled": true
   },
   "outputs": [],
   "source": [
    "import threading\n",
    "import tensorflow as tf\n",
    "\n",
    "def process_image_class(worker_id, imgs_full_path, imgs):\n",
    "    graph1 = tf.Graph()\n",
    "    with graph1.as_default():\n",
    "        with tf.Session(graph=graph1) as sess:\n",
    "            inception_model = inception_v3.InceptionV3(weights='imagenet')\n",
    "            vgg_model = vgg19.VGG19(weights='imagenet')\n",
    "            with open(str(worker_id) + \"_img_classes.pickle\", \"wb\") as f:\n",
    "                for i, (img_full_path, img_tag) in enumerate(zip(imgs_full_path, imgs)):\n",
    "                    if i % 100 == 0:\n",
    "                        print(worker_id, i)\n",
    "                    try:\n",
    "                        img = Image.open(img_full_path)\n",
    "                        target_size = (224, 224)\n",
    "                        if img.size != target_size:\n",
    "                            img = img.resize(target_size)\n",
    "                        img = np.array([image.img_to_array(img)])\n",
    "                        results = classify_by_model(inception_model, inception_v3, img.copy())\n",
    "                        pickle.dump((img_tag, results), f)\n",
    "                    except:\n",
    "                        pass"
   ]
  },
  {
   "cell_type": "code",
   "execution_count": null,
   "metadata": {},
   "outputs": [],
   "source": [
    "thread_count = 4\n",
    "threads = []\n",
    "img_full_paths = [(train_image_base_path + x) for x in train_images] + [(test_image_base_path + x) for x in test_images]\n",
    "imgs = train_images + test_images\n",
    "\n",
    "# img_full_paths = img_full_paths[:1000]\n",
    "# imgs = imgs[:1000]\n",
    "print(len(img_full_paths), len(imgs))\n",
    "for i, thread_fp, thread_imgs in zip(range(thread_count),\n",
    "                   np.array_split(np.array(img_full_paths), thread_count),\n",
    "                   np.array_split(np.array(imgs), thread_count)):\n",
    "    threads.append(threading.Thread(target=process_image_class, args = ([i, thread_fp, thread_imgs])))"
   ]
  },
  {
   "cell_type": "code",
   "execution_count": null,
   "metadata": {},
   "outputs": [],
   "source": [
    "from time import time\n",
    "a = time()\n",
    "for i in range(thread_count):\n",
    "    threads[i].start()\n",
    "for i in range(thread_count):\n",
    "    threads[i].join()\n",
    "time() - a"
   ]
  },
  {
   "cell_type": "markdown",
   "metadata": {},
   "source": [
    "# HSV / YUV features"
   ]
  },
  {
   "cell_type": "code",
   "execution_count": null,
   "metadata": {},
   "outputs": [],
   "source": [
    "import cv2\n",
    "\n",
    "def get_dominant_color(img):\n",
    "    pixels = img.reshape((-1, 3))\n",
    "\n",
    "    n_colors = 5\n",
    "    criteria = (cv2.TERM_CRITERIA_EPS + cv2.TERM_CRITERIA_MAX_ITER, 50, .3)\n",
    "    flags = cv2.KMEANS_RANDOM_CENTERS\n",
    "    _, labels, centroids = cv2.kmeans(pixels, n_colors, None, criteria, 5, flags)\n",
    "\n",
    "    palette = centroids\n",
    "    quantized = palette[labels.flatten()]\n",
    "    quantized = quantized.reshape(img.shape)\n",
    "\n",
    "    counts = np.unique(labels, return_counts=True)[1]\n",
    "    count_indices = np.argsort(-counts)\n",
    "    return np.concatenate([palette[count_indices[0]], palette[count_indices[1]], \\\n",
    "            [counts[count_indices[0]] / sum(counts)], \\\n",
    "            [counts[count_indices[1]] / sum(counts)]])\\\n",
    "\n",
    "\n",
    "def palette_features(filename):\n",
    "    img_f = image.load_img(filename)\n",
    "    img = image.img_to_array(img_f)\n",
    "    \n",
    "    target_size = (224, 224)\n",
    "    img_rescaled = img_f.resize(target_size)\n",
    "    rgb_array = image.img_to_array(img_rescaled)\n",
    "    \n",
    "    yuv_array = cv2.cvtColor(rgb_array, cv2.COLOR_RGB2YUV)\n",
    "    hls_array = cv2.cvtColor(rgb_array, cv2.COLOR_RGB2HLS)\n",
    "\n",
    "    rg = rgb_array[:, :, 0] - rgb_array[:, :, 1]\n",
    "    yb = (rgb_array[:, :, 0] + rgb_array[:, :, 1]) / 2 - rgb_array[:, :, 2]\n",
    "    cful = [np.sqrt(np.var(rg) + np.var(yb)) + 0.3 * np.sqrt(np.mean(rg) ** 2.0 + np.mean(yb) ** 2.0)]\n",
    "\n",
    "    features = np.concatenate([\n",
    "        cful,\n",
    "        get_dominant_color(rgb_array),\n",
    "        np.mean(yuv_array, axis=(0, 1)),\n",
    "        np.var(yuv_array, axis=(0, 1)),\n",
    "        np.mean(hls_array, axis=(0, 1)),\n",
    "        np.var(hls_array, axis=(0, 1))\n",
    "    ])\n",
    "    return features"
   ]
  },
  {
   "cell_type": "code",
   "execution_count": null,
   "metadata": {},
   "outputs": [],
   "source": [
    "pal_feature_names = [\n",
    "    \"cful\",\n",
    "    \"dom1y\", \"dom1u\", \"dom1v\",\n",
    "    \"dom2y\", \"dom2u\", \"dom2v\",\n",
    "    \"dom1portion\", \"dom2portion\",\n",
    "    \"ymean\", \"umean\", \"vmean\",\n",
    "    \"yvar\", \"uvar\", \"vvar\",\n",
    "    \"hmean\", \"lmean\", \"smean\",\n",
    "    \"hvar\", \"lvar\", \"svar\",\n",
    "]"
   ]
  },
  {
   "cell_type": "code",
   "execution_count": null,
   "metadata": {},
   "outputs": [],
   "source": [
    "import traceback\n",
    "import threading\n",
    "from time import time\n",
    "\n",
    "def process_img_pal_features(worker_id, imgs_full_paths, imgs):\n",
    "    with open(str(worker_id) + \"_pal.pickle\", \"wb\") as f:\n",
    "        graph1 = tf.Graph()\n",
    "        with graph1.as_default():\n",
    "            with tf.Session(graph=graph1) as sess:\n",
    "                start_time = time()\n",
    "                for i, (img_full_path, img_tag) in enumerate(zip(imgs_full_paths, imgs)):\n",
    "                    try:\n",
    "                        if i % 150 == 0:\n",
    "                            dt = int(time() - start_time)\n",
    "                            print(worker_id, i, \"/\", len(imgs), \" (time from start: \", dt, \")\")\n",
    "                            speed = float(i + 1) / float(dt + 1.0)\n",
    "                            print((len(imgs) - i) / speed)\n",
    "                        pickle.dump((img_tag, palette_features(img_full_path)), f)\n",
    "                    except:\n",
    "                        traceback.print_exc()"
   ]
  },
  {
   "cell_type": "code",
   "execution_count": null,
   "metadata": {
    "scrolled": true
   },
   "outputs": [],
   "source": [
    "thread_count = 16\n",
    "threads = []\n",
    "img_full_paths = [(train_image_base_path + x) for x in train_images] + [(test_image_base_path + x) for x in test_images]\n",
    "imgs = train_images + test_images\n",
    "\n",
    "# img_full_paths = img_full_paths[:1000]\n",
    "# imgs = imgs[:1000]\n",
    "\n",
    "print(len(img_full_paths), len(imgs))\n",
    "for i, thread_fp, thread_imgs in zip(range(thread_count),\n",
    "                   np.array_split(np.array(img_full_paths), thread_count),\n",
    "                   np.array_split(np.array(imgs), thread_count)):\n",
    "    threads.append(threading.Thread(target=process_img_pal_features, args = ([i, thread_fp, thread_imgs])))"
   ]
  },
  {
   "cell_type": "code",
   "execution_count": null,
   "metadata": {
    "scrolled": true
   },
   "outputs": [],
   "source": [
    "from time import time\n",
    "a = time()\n",
    "for i in range(thread_count):\n",
    "    threads[i].start()\n",
    "for i in range(thread_count):\n",
    "    threads[i].join()\n",
    "time() - a"
   ]
  },
  {
   "cell_type": "markdown",
   "metadata": {},
   "source": [
    "# Segment features"
   ]
  },
  {
   "cell_type": "code",
   "execution_count": 1,
   "metadata": {},
   "outputs": [],
   "source": [
    "import cv2"
   ]
  },
  {
   "cell_type": "code",
   "execution_count": 166,
   "metadata": {},
   "outputs": [],
   "source": [
    "from pyimgsaliency import get_saliency_ft, get_saliency_rbd, get_saliency_mbd\n",
    "import matplotlib.pyplot as plt\n",
    "import cv2\n",
    "\n",
    "feat5 = cv2.FastFeatureDetector_create(5)\n",
    "feat10 = cv2.FastFeatureDetector_create(10)\n",
    "feat20 = cv2.FastFeatureDetector_create(20)\n",
    "\n",
    "cont_thresholds = [64, 128, 192]\n",
    "area_thresholds = [5, 100, 500]\n",
    "def get_saliency_features(filename):\n",
    "    img_f = image.load_img(filename)\n",
    "    img = image.img_to_array(img_f)\n",
    "    \n",
    "    target_size = (128, 128)\n",
    "    img_rescaled = img_f.resize(target_size)\n",
    "    rgb_array = image.img_to_array(img_rescaled)\n",
    "    \n",
    "    kp5 = feat5.detect(rgb_array, None)\n",
    "    kp10 = feat10.detect(rgb_array, None)\n",
    "    kp20 = feat20.detect(rgb_array, None)\n",
    "    \n",
    "    img = cv2.cvtColor(img.astype('uint8'), cv2.COLOR_RGB2GRAY)\n",
    "    contour_features = []\n",
    "    \n",
    "    for thresh in cont_thresholds:        \n",
    "        _, ret = cv2.threshold(img, thresh, 255, 0)\n",
    "        im2, contours, _ = cv2.findContours(ret, cv2.RETR_LIST, cv2.CHAIN_APPROX_SIMPLE)\n",
    "        areas = np.array([cv2.contourArea(x) for x in contours])\n",
    "        contour_features.append(np.sum(ret))\n",
    "        contour_features.append(len(contours))\n",
    "        if len(areas) == 0:\n",
    "            contour_features.append(-1)\n",
    "        else:\n",
    "            contour_features.append(max(areas))\n",
    "        for a in area_thresholds:\n",
    "            contour_features.append(sum(areas > a))\n",
    "        \n",
    "    return [len(kp5), len(kp10), len(kp20)] + contour_features\n",
    "\n",
    "feature_names = [\"kp5\", \"kp10\", \"kp20\"]\n",
    "for thresh in cont_thresholds:        \n",
    "    feature_names.append(\"mask_size_\" + str(thresh))\n",
    "    feature_names.append(\"contour_size_\" + str(thresh))\n",
    "    feature_names.append(\"largest_contour_size_\" + str(thresh))\n",
    "    for a in area_thresholds:\n",
    "        feature_names.append(\"contours_\" + str(thresh) + \"_larger_\" + str(a))"
   ]
  },
  {
   "cell_type": "code",
   "execution_count": null,
   "metadata": {
    "scrolled": true
   },
   "outputs": [
    {
     "name": "stderr",
     "output_type": "stream",
     "text": [
      " 66%|██████▋   | 924050/1390836 [7:31:30<3:48:04, 34.11it/s]"
     ]
    }
   ],
   "source": [
    "import pickle\n",
    "\n",
    "with open(\"contour_map.pickle\", \"wb\") as f:\n",
    "    for x in tqdm(test_images):\n",
    "        try:\n",
    "            features = get_saliency_features(test_image_base_path + x)\n",
    "            pickle.dump((x, features), f)\n",
    "        except:\n",
    "            traceback.print_exc()\n",
    "    for x in tqdm(train_images):\n",
    "        try:\n",
    "            features = get_saliency_features(train_image_base_path + x)\n",
    "            pickle.dump((x, features), f)\n",
    "        except:\n",
    "            traceback.print_exc()"
   ]
  },
  {
   "cell_type": "code",
   "execution_count": null,
   "metadata": {},
   "outputs": [],
   "source": []
  },
  {
   "cell_type": "code",
   "execution_count": 140,
   "metadata": {
    "scrolled": true
   },
   "outputs": [
    {
     "data": {
      "text/plain": [
       "<matplotlib.image.AxesImage at 0x7f0a7c18b1d0>"
      ]
     },
     "execution_count": 140,
     "metadata": {},
     "output_type": "execute_result"
    },
    {
     "data": {
      "image/png": "[encoded data removed]",
      "text/plain": [
       "<Figure size 432x288 with 1 Axes>"
      ]
     },
     "metadata": {},
     "output_type": "display_data"
    }
   ],
   "source": [
    "from keras.preprocessing import image\n",
    "\n",
    "# ft = get_saliency_ft(filename).astype('uint8')\n",
    "# get_saliency_rbd('/home/grozin/.kaggle/competitions/avito-demand-prediction/data/competition_files/train_jpg/f1069b755cb5dbb00dd887765197511c2b17e28ee4fd0be0c6808df3d3c6d9b1.jpg').astype('uint8')\n",
    "# get_saliency_ft('/home/grozin/.kaggle/competitions/avito-demand-prediction/data/competition_files/train_jpg/f1069b755cb5dbb00dd887765197511c2b17e28ee4fd0be0c6808df3d3c6d9b1.jpg').astype('uint8')\n",
    "# get the saliency maps using the 3 implemented methods\n",
    "# plt.imshow(get_saliency_rbd(train_image_base_path + train_images[1000]).astype('uint8'))\n",
    "img_f = image.load_img(train_image_base_path + train_images[1000])\n",
    "\n",
    "target_size = (128, 128)\n",
    "img_rescaled = img_f.resize(target_size)\n",
    "img = image.img_to_array(img_rescaled).astype('uint8')\n",
    "import numpy as np\n",
    "img = cv2.cvtColor(img, cv2.COLOR_RGB2GRAY)\n",
    "\n",
    "ret, thresh = cv2.threshold(img, 128, 255, 0)\n",
    "im2, contours, _ = cv2.findContours(thresh, cv2.RETR_LIST, cv2.CHAIN_APPROX_SIMPLE)\n",
    "largest_contour = max(contours, key=cv2.contourArea)\n",
    "mask = np.zeros(img.shape, np.uint8)\n",
    "cv2.fillPoly(mask, [largest_contour], 128)\n",
    "\n",
    "# apply mask to threshold image to remove outside. this is our new mask\n",
    "#plt.imshow(get_saliency_rbd(arr, 120).astype('uint8'))\n",
    "#kernel = cv2.getStructuringElement(cv2.MORPH_ELLIPSE,(5, 5))\n",
    "#img = cv2.morphologyEx(img, cv2.MORPH_OPEN, kernel)  # <- to remove speckles...\n",
    "#img = cv2.morphologyEx(img, cv2.MORPH_DILATE, kernel)\n",
    "#img = cv2.morphologyEx(img, cv2.MORPH_DILATE, kernel)\n",
    "#img = cv2.morphologyEx(img, cv2.MORPH_CLOSE, kernel)\n",
    "#img = cv2.morphologyEx(img, cv2.MORPH_CLOSE, kernel)\n",
    "#img = cv2.morphologyEx(img, cv2.MORPH_ERODE, kernel)\n",
    "#img = cv2.morphologyEx(img, cv2.MORPH_ERODE, kernel)\n",
    "plt.imshow(im2.astype('uint8'))"
   ]
  },
  {
   "cell_type": "code",
   "execution_count": 15,
   "metadata": {},
   "outputs": [
    {
     "name": "stderr",
     "output_type": "stream",
     "text": [
      "/home/grozin/kaggle/demand_prediction/saliency.py:62: VisibleDeprecationWarning: using a non-integer number instead of an integer will result in an error in the future\n",
      "  vertices[x/num_vertices]] for x in edges]\n"
     ]
    },
    {
     "name": "stdout",
     "output_type": "stream",
     "text": [
      "CPU times: user 588 ms, sys: 0 ns, total: 588 ms\n",
      "Wall time: 586 ms\n"
     ]
    },
    {
     "data": {
      "text/plain": [
       "<matplotlib.image.AxesImage at 0x7f0ad488dcc0>"
      ]
     },
     "execution_count": 15,
     "metadata": {},
     "output_type": "execute_result"
    },
    {
     "data": {
      "image/png": "[encoded data removed]",
      "text/plain": [
       "<Figure size 432x288 with 1 Axes>"
      ]
     },
     "metadata": {},
     "output_type": "display_data"
    }
   ],
   "source": [
    "%time plt.imshow(get_saliency_rbd(arr, 100, 20).astype('uint8'))"
   ]
  },
  {
   "cell_type": "code",
   "execution_count": null,
   "metadata": {},
   "outputs": [],
   "source": [
    "filename = train_image_base_path + train_images[0]\n",
    "\n",
    "img_f = image.load_img(filename)\n",
    "img = image.img_to_array(img_f)\n",
    "\n",
    "target_size = (224, 224)\n",
    "img_rescaled = img_f.resize(target_size)\n",
    "rgb_array = image.img_to_array(img_rescaled)\n",
    "\n",
    "feat = cv2.FastFeatureDetector_create()\n",
    "\n",
    "kp = feat.detect(img, None)"
   ]
  },
  {
   "cell_type": "markdown",
   "metadata": {},
   "source": [
    "### Checking validity, processing leftovers"
   ]
  },
  {
   "cell_type": "code",
   "execution_count": null,
   "metadata": {},
   "outputs": [],
   "source": [
    "processed_class_ids = []\n",
    "for i in range(8):\n",
    "    with open(str(i) + \"_img_classes.pickle\", \"rb\") as f:\n",
    "        while True:\n",
    "            try:\n",
    "                pair = pickle.load(f)\n",
    "                processed_class_ids.append(pair[0])\n",
    "            except:\n",
    "                break"
   ]
  },
  {
   "cell_type": "code",
   "execution_count": null,
   "metadata": {},
   "outputs": [],
   "source": [
    "processed_feature_ids = []\n",
    "for i in range(8):\n",
    "    with open(str(i) + \"_features.pickle\", \"rb\") as f:\n",
    "        while True:\n",
    "            try:\n",
    "                pair = pickle.load(f)\n",
    "                processed_feature_ids.append(pair[0])\n",
    "            except:\n",
    "                break\n",
    "    with open(str(i) + \"_features_test.pickle\", \"rb\") as f:\n",
    "        while True:\n",
    "            try:\n",
    "                pair = pickle.load(f)\n",
    "                processed_feature_ids.append(pair[0])\n",
    "            except:\n",
    "                break"
   ]
  },
  {
   "cell_type": "code",
   "execution_count": null,
   "metadata": {},
   "outputs": [],
   "source": [
    "processed_class_ids = set(processed_class_ids)\n",
    "processed_feature_ids = set(processed_feature_ids)"
   ]
  },
  {
   "cell_type": "code",
   "execution_count": null,
   "metadata": {
    "scrolled": true
   },
   "outputs": [],
   "source": [
    "sum(~training[\"image\"][~training[\"image\"].isnull()].apply(lambda x: x + \".jpg\" in processed_class_ids))"
   ]
  },
  {
   "cell_type": "code",
   "execution_count": null,
   "metadata": {
    "scrolled": true
   },
   "outputs": [],
   "source": [
    "sum(~testing[\"image\"][~testing[\"image\"].isnull()].apply(lambda x: x + \".jpg\" in processed_class_ids))"
   ]
  },
  {
   "cell_type": "code",
   "execution_count": null,
   "metadata": {},
   "outputs": [],
   "source": []
  },
  {
   "cell_type": "code",
   "execution_count": null,
   "metadata": {},
   "outputs": [],
   "source": []
  },
  {
   "cell_type": "markdown",
   "metadata": {},
   "source": [
    "# Background extraction"
   ]
  },
  {
   "cell_type": "code",
   "execution_count": null,
   "metadata": {
    "scrolled": true
   },
   "outputs": [],
   "source": [
    "import torch\n",
    "from torch import nn\n",
    "from TernausNet.unet_models import unet11\n",
    "from pathlib import Path\n",
    "from torch.nn import functional as F\n",
    "from torchvision.transforms import ToTensor, Normalize, Compose\n",
    "\n",
    "device = torch.device(\"cuda:0\" if torch.cuda.is_available() else \"cpu\")"
   ]
  },
  {
   "cell_type": "code",
   "execution_count": null,
   "metadata": {
    "scrolled": true
   },
   "outputs": [],
   "source": [
    "def get_model():\n",
    "    model = unet11(pretrained='carvana')\n",
    "    model.eval()\n",
    "    return model.to(device)\n",
    "\n",
    "def mask_overlay(image, mask, color=(0, 255, 0)):\n",
    "    \"\"\"\n",
    "    Helper function to visualize mask on the top of the car\n",
    "    \"\"\"\n",
    "    mask = np.dstack((mask, mask, mask)) * np.array(color)\n",
    "    mask = mask.astype(np.uint8)\n",
    "    weighted_sum = cv2.addWeighted(mask, 0.5, image, 0.5, 0.)\n",
    "    img = image.copy()\n",
    "    ind = mask[:, :, 1] > 0    \n",
    "    img[ind] = weighted_sum[ind]    \n",
    "    return img\n",
    "\n",
    "def load_image(path, pad=True):\n",
    "    \"\"\"\n",
    "    Load image from a given path and pad it on the sides, so that eash side is divisible by 32 (newtwork requirement)\n",
    "    \n",
    "    if pad = True:\n",
    "        returns image as numpy.array, tuple with padding in pixels as(x_min_pad, y_min_pad, x_max_pad, y_max_pad)\n",
    "    else:\n",
    "        returns image as numpy.array\n",
    "    \"\"\"\n",
    "    img = cv2.imread(str(path))\n",
    "    img = cv2.cvtColor(img, cv2.COLOR_BGR2RGB)\n",
    "    \n",
    "    if not pad:\n",
    "        return img\n",
    "    \n",
    "    height, width, _ = img.shape\n",
    "    \n",
    "    if height % 32 == 0:\n",
    "        y_min_pad = 0\n",
    "        y_max_pad = 0\n",
    "    else:\n",
    "        y_pad = 32 - height % 32\n",
    "        y_min_pad = int(y_pad / 2)\n",
    "        y_max_pad = y_pad - y_min_pad\n",
    "        \n",
    "    if width % 32 == 0:\n",
    "        x_min_pad = 0\n",
    "        x_max_pad = 0\n",
    "    else:\n",
    "        x_pad = 32 - width % 32\n",
    "        x_min_pad = int(x_pad / 2)\n",
    "        x_max_pad = x_pad - x_min_pad\n",
    "    \n",
    "    img = cv2.copyMakeBorder(img, y_min_pad, y_max_pad, x_min_pad, x_max_pad, cv2.BORDER_REFLECT_101)\n",
    "\n",
    "    return img, (x_min_pad, y_min_pad, x_max_pad, y_max_pad)\n",
    "\n",
    "img_transform = Compose([\n",
    "    ToTensor(),\n",
    "    Normalize(mean=[0.485, 0.456, 0.406], std=[0.229, 0.224, 0.225])\n",
    "])\n",
    "\n",
    "def crop_image(img, pads):\n",
    "    \"\"\"\n",
    "    img: numpy array of the shape (height, width)\n",
    "    pads: (x_min_pad, y_min_pad, x_max_pad, y_max_pad)\n",
    "    \n",
    "    @return padded image\n",
    "    \"\"\"\n",
    "    (x_min_pad, y_min_pad, x_max_pad, y_max_pad) = pads\n",
    "    height, width = img.shape[:2] \n",
    "    \n",
    "    return img[y_min_pad:height - y_max_pad, x_min_pad:width - x_max_pad]\n",
    "\n",
    "model = get_model()"
   ]
  },
  {
   "cell_type": "code",
   "execution_count": null,
   "metadata": {},
   "outputs": [],
   "source": [
    "import matplotlib.pyplot as plt\n",
    "img, pads = load_image(train_image_base_path + train_images[101], pad=True)\n",
    "with torch.no_grad():\n",
    "    input_img = torch.unsqueeze(img_transform(img).to(device), dim=0)\n",
    "with torch.no_grad():\n",
    "    mask = F.sigmoid(model(input_img))\n",
    "mask_array = mask.data[0].cpu().numpy()[0]\n",
    "mask_array = crop_image(mask_array, pads)\n",
    "mask_array"
   ]
  },
  {
   "cell_type": "markdown",
   "metadata": {},
   "source": [
    "### Testing features"
   ]
  },
  {
   "cell_type": "code",
   "execution_count": null,
   "metadata": {},
   "outputs": [],
   "source": [
    "import pandas as pd\n",
    "\n",
    "training = pd.read_csv(base_path + 'train.csv', index_col = \"item_id\", parse_dates = [\"activation_date\"])"
   ]
  },
  {
   "cell_type": "code",
   "execution_count": null,
   "metadata": {},
   "outputs": [],
   "source": [
    "import lightgbm as lgb\n",
    "training = training[(training[\"image\"].fillna(\"\") + \".jpg\").isin(train_features.keys())]"
   ]
  },
  {
   "cell_type": "code",
   "execution_count": null,
   "metadata": {},
   "outputs": [],
   "source": [
    "col_count = len(simple_img_features_names)\n",
    "zero_obj = -np.ones((col_count))\n",
    "\n",
    "packed_images_vectors = training[\"image\"].apply(lambda x: train_features.get(str(x) + \".jpg\", zero_obj))\n",
    "training[simple_img_features_names] = pd.DataFrame(packed_images_vectors.values.tolist(), index=training.index)"
   ]
  },
  {
   "cell_type": "code",
   "execution_count": null,
   "metadata": {},
   "outputs": [],
   "source": [
    "categorical = [\"region\", \"city\",\n",
    "               \"parent_category_name\", \"category_name\", \n",
    "               \"user_type\",\n",
    "               \"image_top_1\",\n",
    "               \"param_1\", \"param_2\", \"param_3\"]"
   ]
  },
  {
   "cell_type": "code",
   "execution_count": null,
   "metadata": {},
   "outputs": [],
   "source": [
    "target = training[\"deal_probability\"]\n",
    "training = training[categorical + simple_img_features_names]"
   ]
  },
  {
   "cell_type": "code",
   "execution_count": null,
   "metadata": {},
   "outputs": [],
   "source": [
    "from sklearn import preprocessing\n",
    "from sklearn.model_selection import train_test_split\n",
    "\n",
    "lbl = preprocessing.LabelEncoder()\n",
    "for col in categorical:\n",
    "    training[col].fillna('Unknown')\n",
    "    training[col] = lbl.fit_transform(training[col].astype(str))"
   ]
  },
  {
   "cell_type": "code",
   "execution_count": null,
   "metadata": {},
   "outputs": [],
   "source": [
    "lgbm_params =  {\n",
    "    'task': 'train',\n",
    "    'boosting_type': 'gbdt',\n",
    "    'objective': 'regression',\n",
    "    'metric': 'rmse',\n",
    "    'num_leaves': 270,\n",
    "    'feature_fraction': 0.5,\n",
    "    'bagging_fraction': 0.75,\n",
    "    'bagging_freq': 2,\n",
    "    'learning_rate': 0.05,\n",
    "    'verbose': 0,\n",
    "    \"num_threads\": 8,\n",
    "}"
   ]
  },
  {
   "cell_type": "code",
   "execution_count": null,
   "metadata": {},
   "outputs": [],
   "source": [
    "X = training[categorical]\n",
    "X_train, X_test, y_test, y_test = train_test_split(np.array(X), target, test_size=0.10, random_state=23)\n",
    "X_train, X_valid, y_train, y_valid = train_test_split(np.array(X), target, test_size=0.10, random_state=23)\n",
    "\n",
    "lgtrain = lgb.Dataset(X_train, y_train,\n",
    "                feature_name=categorical,\n",
    "                categorical_feature = categorical)\n",
    "lgvalid = lgb.Dataset(X_valid, y_valid,\n",
    "                feature_name=categorical,\n",
    "                categorical_feature = categorical)\n",
    "lgtest = lgb.Dataset(X_test, y_test,\n",
    "                feature_name=categorical,\n",
    "                categorical_feature = categorical)\n",
    "\n",
    "lgb_model = lgb.train(lgbm_params, lgtrain, 200, valid_sets=(lgvalid), valid_names=['val'], verbose_eval=10, early_stopping = 20)"
   ]
  },
  {
   "cell_type": "code",
   "execution_count": null,
   "metadata": {},
   "outputs": [],
   "source": [
    "lgb.plot_importance(lgb_model)"
   ]
  },
  {
   "cell_type": "code",
   "execution_count": null,
   "metadata": {},
   "outputs": [],
   "source": [
    "from sklearn.metrics import mean_squared_error\n",
    "\n",
    "mean_squared_error(lgb_model.predict(X_test, lgb_model.best_iteration), y_test)"
   ]
  },
  {
   "cell_type": "code",
   "execution_count": null,
   "metadata": {
    "scrolled": true
   },
   "outputs": [],
   "source": [
    "X = training[categorical + simple_img_features_names]\n",
    "X_train, X_test, y_test, y_test = train_test_split(np.array(X), target, test_size=0.10, random_state=23)\n",
    "X_train, X_valid, y_train, y_valid = train_test_split(np.array(X), target, test_size=0.10, random_state=23)\n",
    "\n",
    "lgtrain = lgb.Dataset(X_train, y_train,\n",
    "                feature_name=categorical + simple_img_features_names,\n",
    "                categorical_feature = categorical)\n",
    "lgvalid = lgb.Dataset(X_valid, y_valid,\n",
    "                feature_name=categorical + simple_img_features_names,\n",
    "                categorical_feature = categorical)\n",
    "lgtest = lgb.Dataset(X_test, y_test,\n",
    "                feature_name=categorical + simple_img_features_names,\n",
    "                categorical_feature = categorical)\n",
    "\n",
    "lgb_model = lgb.train(lgbm_params, lgtrain, 200, valid_sets=(lgvalid), valid_names=['val'],\n",
    "                      verbose_eval=10, early_stopping_rounds= 20)"
   ]
  },
  {
   "cell_type": "code",
   "execution_count": null,
   "metadata": {
    "scrolled": true
   },
   "outputs": [],
   "source": [
    "lgb.plot_importance(lgb_model)"
   ]
  },
  {
   "cell_type": "code",
   "execution_count": null,
   "metadata": {},
   "outputs": [],
   "source": [
    "from sklearn.metrics import mean_squared_error\n",
    "\n",
    "mean_squared_error(lgb_model.predict(X_test, lgb_model.best_iteration), y_test)"
   ]
  },
  {
   "cell_type": "code",
   "execution_count": null,
   "metadata": {},
   "outputs": [],
   "source": []
  }
 ],
 "metadata": {
  "kernelspec": {
   "display_name": "Python 3",
   "language": "python",
   "name": "python3"
  },
  "language_info": {
   "codemirror_mode": {
    "name": "ipython",
    "version": 3
   },
   "file_extension": ".py",
   "mimetype": "text/x-python",
   "name": "python",
   "nbconvert_exporter": "python",
   "pygments_lexer": "ipython3",
   "version": "3.6.1"
  }
 },
 "nbformat": 4,
 "nbformat_minor": 2
}
