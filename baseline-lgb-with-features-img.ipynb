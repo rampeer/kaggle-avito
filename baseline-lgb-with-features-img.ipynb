{
 "cells": [
  {
   "cell_type": "markdown",
   "metadata": {},
   "source": [
    "# Avito demand prediction challenge\n",
    "\n",
    "This notebook contains code that makes single-model prediction that scores ~0.2195 on public leaderboard.\n",
    "\n",
    "Notebook contains data processing, some simple features, cross-validation and submission generation. Most of the features take a while to calculate, so I calculate them in separate notebooks, cache them in .pickle files, and just load here. Running all notebooks from scratch would take ~4 days on my machine (64 Gb RAM, 8 cores, GPU).\n",
    "\n",
    "I'm not great at explaining things; comments and suggestions are appreciated.\n",
    "\n",
    "This is my first time seriously (=not just submitting baseline) participating in Kaggle competition. I stood on shoulders of titans:\n",
    " - Initially forked from Bojan's kernel here: https://www.kaggle.com/tunguz/bow-meta-text-and-dense-features-lb-0-2242/code\n",
    " - improvement using kernel from Nick Brook's kernel here: https://www.kaggle.com/nicapotato/bow-meta-text-and-dense-features-lgbm\n",
    " - Used oof method from Faron's kernel here: https://www.kaggle.com/mmueller/stacking-starter?scriptVersionId=390867\n",
    " - TargetEncoder by [samratp](https://www.kaggle.com/samratp/wordbatch-ridge-fm-frtl-target-encoding-lgbm) and [ogrellier](https://www.kaggle.com/ogrellier/python-target-encoding-for-categorical-features)\n",
    " - ODS community (many ideas and suggestions)\n",
    "\n",
    "\n",
    "#### Contents:\n",
    "\n",
    "1. [Settings, imports](#Settings-and-imports)\n",
    "2. [Data loading](#Data-loading)\n",
    "3. Features\n",
    "  - [Date and price features](#Date-and-price-features)\n",
    "  - [User features](#User-features)\n",
    "  - [Image features](#Image-features)\n",
    "  - [City/region-level external data](#City-and-region-extra-data)\n",
    "  - [Nearest-neighbour - based features](#KNN-features)\n",
    "  - [Text features](#Text-features)\n",
    "  - [Similarity features](#Similarity-features)\n",
    "4. [Encoding categorial variables](#Encoding-categorial-variables)\n",
    "5. [Making train/test sets](#Building-train-test-sets)\n",
    "6. [Running single model and estimating tree count](#Running-single-model)\n",
    "7. [Using folds to make final prediction](#Using-folds)"
   ]
  },
  {
   "cell_type": "markdown",
   "metadata": {},
   "source": [
    "# Settings and imports\n",
    "The script expects `base_path` to be a directory that contains unpacked csv files, `train_image_base_path` and `test_image_base_path` to be directories that contain unpacked train and test images respectively."
   ]
  },
  {
   "cell_type": "code",
   "execution_count": 1,
   "metadata": {},
   "outputs": [],
   "source": [
    "base_path = \"~/.kaggle/competitions/avito-demand-prediction/\"\n",
    "train_image_base_path = base_path + \"data/competition_files/train_jpg/\"\n",
    "test_image_base_path = base_path + \"data/competition_files/test_jpg/\""
   ]
  },
  {
   "cell_type": "code",
   "execution_count": 2,
   "metadata": {
    "scrolled": false
   },
   "outputs": [
    {
     "name": "stderr",
     "output_type": "stream",
     "text": [
      "/usr/local/lib/python3.6/site-packages/sklearn/cross_validation.py:41: DeprecationWarning: This module was deprecated in version 0.18 in favor of the model_selection module into which all the refactored classes and functions are moved. Also note that the interface of the new CV iterators are different from that of this module. This module will be removed in 0.20.\n",
      "  \"This module will be removed in 0.20.\", DeprecationWarning)\n"
     ]
    }
   ],
   "source": [
    "import time\n",
    "\n",
    "import pickle\n",
    "import numpy as np\n",
    "import pandas as pd\n",
    "import os\n",
    "import gc\n",
    "\n",
    "from sklearn import metrics\n",
    "from sklearn.metrics import mean_squared_error\n",
    "from sklearn.model_selection import train_test_split\n",
    "from sklearn.preprocessing import LabelEncoder\n",
    "\n",
    "import lightgbm as lgb\n",
    "from sklearn.linear_model import Ridge\n",
    "from sklearn.cross_validation import KFold\n",
    "\n",
    "from sklearn.feature_extraction.text import CountVectorizer, TfidfVectorizer\n",
    "from sklearn.pipeline import FeatureUnion\n",
    "from scipy.sparse import hstack, csr_matrix\n",
    "from nltk.corpus import stopwords \n",
    "\n",
    "import matplotlib.pyplot as plt\n",
    "import re\n",
    "import string"
   ]
  },
  {
   "cell_type": "code",
   "execution_count": 3,
   "metadata": {},
   "outputs": [],
   "source": [
    "NFOLDS = 5\n",
    "SEED = 42\n",
    "\n",
    "class TargetEncoder:\n",
    "    # Adapted from https://www.kaggle.com/ogrellier/python-target-encoding-for-categorical-features\n",
    "    def __repr__(self):\n",
    "        return 'TargetEncoder'\n",
    "\n",
    "    def __init__(self, cols, smoothing=1, min_samples_leaf=1, noise_level=0, keep_original=False):\n",
    "        self.cols = cols\n",
    "        self.smoothing = smoothing\n",
    "        self.min_samples_leaf = min_samples_leaf\n",
    "        self.noise_level = noise_level\n",
    "        self.keep_original = keep_original\n",
    "\n",
    "    @staticmethod\n",
    "    def add_noise(series, noise_level):\n",
    "        return series * (1 + noise_level * np.random.randn(len(series)))\n",
    "\n",
    "    def encode(self, train, test, target):\n",
    "        for col in self.cols:\n",
    "            if self.keep_original:\n",
    "                train[col + '_te'], test[col + '_te'] = self.encode_column(train[col], test[col], target)\n",
    "            else:\n",
    "                train[col], test[col] = self.encode_column(train[col], test[col], target)\n",
    "        return train, test\n",
    "\n",
    "    def encode_column(self, trn_series, tst_series, target):\n",
    "        temp = pd.concat([trn_series, target], axis=1)\n",
    "        # Compute target mean\n",
    "        averages = temp.groupby(by=trn_series.name)[target.name].agg([\"mean\", \"count\"])\n",
    "        # Compute smoothing\n",
    "        smoothing = 1 / (1 + np.exp(-(averages[\"count\"] - self.min_samples_leaf) / self.smoothing))\n",
    "        # Apply average function to all target data\n",
    "        prior = target.mean()\n",
    "        # The bigger the count the less full_avg is taken into account\n",
    "        averages[target.name] = prior * (1 - smoothing) + averages[\"mean\"] * smoothing\n",
    "        averages.drop(['mean', 'count'], axis=1, inplace=True)\n",
    "        # Apply averages to trn and tst series\n",
    "        ft_trn_series = pd.merge(\n",
    "            trn_series.to_frame(trn_series.name),\n",
    "            averages.reset_index().rename(columns={'index': target.name, target.name: 'average'}),\n",
    "            on=trn_series.name,\n",
    "            how='left')['average'].rename(trn_series.name + '_mean').fillna(prior)\n",
    "        # pd.merge does not keep the index so restore it\n",
    "        ft_trn_series.index = trn_series.index\n",
    "        ft_tst_series = pd.merge(\n",
    "            tst_series.to_frame(tst_series.name),\n",
    "            averages.reset_index().rename(columns={'index': target.name, target.name: 'average'}),\n",
    "            on=tst_series.name,\n",
    "            how='left')['average'].rename(trn_series.name + '_mean').fillna(prior)\n",
    "        # pd.merge does not keep the index so restore it\n",
    "        ft_tst_series.index = tst_series.index\n",
    "        return self.add_noise(ft_trn_series, self.noise_level), self.add_noise(ft_tst_series, self.noise_level)\n",
    "\n",
    "class SklearnWrapper(object):\n",
    "    def __init__(self, clf, seed=0, params=None, seed_bool = True):\n",
    "        if(seed_bool == True):\n",
    "            params['random_state'] = seed\n",
    "        self.clf = clf(**params)\n",
    "\n",
    "    def train(self, x_train, y_train):\n",
    "        self.clf.fit(x_train, y_train)\n",
    "\n",
    "    def predict(self, x):\n",
    "        return self.clf.predict(x)\n",
    "        \n",
    "def get_oof(clf, x_train, y, x_test):\n",
    "    oof_train = np.zeros((ntrain,))\n",
    "    oof_test = np.zeros((ntest,))\n",
    "    oof_test_skf = np.empty((NFOLDS, ntest))\n",
    "\n",
    "    for i, (train_index, test_index) in enumerate(kf):\n",
    "        print('\\nFold {}'.format(i))\n",
    "        x_tr = x_train[train_index]\n",
    "        y_tr = y[train_index]\n",
    "        x_te = x_train[test_index]\n",
    "\n",
    "        clf.train(x_tr, y_tr)\n",
    "\n",
    "        oof_train[test_index] = clf.predict(x_te)\n",
    "        oof_test_skf[i, :] = clf.predict(x_test)\n",
    "\n",
    "    oof_test[:] = oof_test_skf.mean(axis=0)\n",
    "    return oof_train.reshape(-1, 1), oof_test.reshape(-1, 1)"
   ]
  },
  {
   "cell_type": "markdown",
   "metadata": {},
   "source": [
    "# Data loading"
   ]
  },
  {
   "cell_type": "code",
   "execution_count": 4,
   "metadata": {},
   "outputs": [
    {
     "data": {
      "text/plain": [
       "35"
      ]
     },
     "execution_count": 4,
     "metadata": {},
     "output_type": "execute_result"
    }
   ],
   "source": [
    "training = pd.read_csv(base_path + 'train.csv', index_col = \"item_id\", parse_dates = [\"activation_date\"])\n",
    "testing = pd.read_csv(base_path + 'test.csv', index_col = \"item_id\", parse_dates = [\"activation_date\"])\n",
    "\n",
    "testing_users = testing[\"user_id\"]\n",
    "training_users = training[\"user_id\"]\n",
    "\n",
    "\n",
    "traindex = training.index\n",
    "testdex = testing.index\n",
    "\n",
    "ntrain = training.shape[0]\n",
    "ntest = testing.shape[0]\n",
    "\n",
    "y = training.deal_probability.copy()\n",
    "training.drop(\"deal_probability\",axis=1, inplace=True)\n",
    "\n",
    "df = pd.concat([training, testing],axis=0)\n",
    "del training, testing\n",
    "gc.collect()"
   ]
  },
  {
   "cell_type": "markdown",
   "metadata": {},
   "source": [
    "# Date and price features\n",
    "Applying log-transform to the price, so its distribution would appear normal-ish.\n",
    "\n",
    "NaNs are filled with mean (filling it with mean by category reduced my score for some reason)."
   ]
  },
  {
   "cell_type": "code",
   "execution_count": 5,
   "metadata": {},
   "outputs": [],
   "source": [
    "df[\"price\"] = np.log(df[\"price\"] + 0.001)\n",
    "df[\"price_empty\"] = df[\"price\"].isnull().astype(np.float)\n",
    "df[\"price\"].fillna(df[\"price\"].mean(skipna=True), inplace=True)"
   ]
  },
  {
   "cell_type": "code",
   "execution_count": 6,
   "metadata": {},
   "outputs": [],
   "source": [
    "df[\"Weekday\"] = df['activation_date'].dt.weekday"
   ]
  },
  {
   "cell_type": "markdown",
   "metadata": {},
   "source": [
    "### Price features in categories"
   ]
  },
  {
   "cell_type": "code",
   "execution_count": 7,
   "metadata": {},
   "outputs": [],
   "source": [
    "df[\"image_top_1\"].fillna(-999,inplace=True)\n",
    "df[\"image_top_1\"] = df[\"image_top_1\"].apply(lambda x: int(round(x)))"
   ]
  },
  {
   "cell_type": "code",
   "execution_count": 8,
   "metadata": {},
   "outputs": [],
   "source": [
    "def make_col_from_dict(x, y, default = -1.0):\n",
    "    l = np.zeros((len(x)))\n",
    "    for r, i in enumerate(x.values):\n",
    "        l[r] = y.get(tuple(i), default)\n",
    "    return pd.Series(l, index=x.index)\n",
    "\n",
    "def make_col_from_dict_untupled(x, y, default = -1.0):\n",
    "    l = np.zeros((len(x)))\n",
    "    for r, i in enumerate(x.values):\n",
    "        l[r] = y.get(i, default)\n",
    "    return pd.Series(l, index=x.index)"
   ]
  },
  {
   "cell_type": "code",
   "execution_count": 9,
   "metadata": {
    "scrolled": true
   },
   "outputs": [
    {
     "name": "stdout",
     "output_type": "stream",
     "text": [
      "parent_category_name\n",
      "category_name\n",
      "image_top_1\n",
      "parent_category_name_region\n",
      "category_name_region\n",
      "image_top_1_region\n",
      "parent_category_name_city\n",
      "category_name_city\n",
      "image_top_1_city\n"
     ]
    }
   ],
   "source": [
    "# Raw price features \n",
    "cat_params = [\"parent_category_name\", \"category_name\", \"image_top_1\"]\n",
    "for extra_columns in [[], [\"region\"], [\"city\"]]:\n",
    "    for col in cat_params:\n",
    "        name_prefix = \"_\".join([col] + extra_columns)\n",
    "        \n",
    "        print(name_prefix)\n",
    "        means = df.groupby([col] + extra_columns)[\"price\"].mean().to_dict()\n",
    "        medians = df.groupby([col] + extra_columns)[\"price\"].median().to_dict()\n",
    "        counts = df.groupby([col] + extra_columns)[\"price\"].count().to_dict()\n",
    "        var = df.groupby([col] + extra_columns)[\"price\"].var().to_dict()\n",
    "\n",
    "        df[name_prefix + \"_mean_price\"] = make_col_from_dict(df[[col] + extra_columns], means)\n",
    "        df[name_prefix + \"_median_price\"] = make_col_from_dict(df[[col] + extra_columns], medians)\n",
    "        df[name_prefix + \"_counts\"] = make_col_from_dict(df[[col] + extra_columns], counts)\n",
    "        df[name_prefix + \"_var_price\"] = make_col_from_dict(df[[col] + extra_columns], var).fillna(0.0) # Var may have zero variance if there is single row"
   ]
  },
  {
   "cell_type": "markdown",
   "metadata": {},
   "source": [
    "# User features"
   ]
  },
  {
   "cell_type": "code",
   "execution_count": 10,
   "metadata": {
    "scrolled": true
   },
   "outputs": [],
   "source": [
    "def get_user_feature_map():\n",
    "    # Loading data\n",
    "    used_cols = [\"item_id\", \"user_id\", \"parent_category_name\", \"category_name\", \"price\"]\n",
    "\n",
    "    train = pd.read_csv(base_path + 'train.csv', usecols=used_cols)\n",
    "    train_active = pd.read_csv(base_path + 'train_active.csv', usecols=used_cols)\n",
    "    test = pd.read_csv(base_path + 'test.csv', usecols=used_cols)\n",
    "    test_active = pd.read_csv(base_path + 'test_active.csv', usecols=used_cols)\n",
    "\n",
    "    all_samples = pd.concat([\n",
    "        train,\n",
    "        train_active,\n",
    "        test,\n",
    "        test_active\n",
    "    ]).reset_index(drop=True)\n",
    "    all_samples.drop_duplicates(['item_id'], inplace=True)\n",
    "\n",
    "    del train_active, test_active, train, test\n",
    "    gc.collect()\n",
    "\n",
    "    train_periods = pd.read_csv(base_path + 'periods_train.csv', parse_dates=['date_from', 'date_to'])\n",
    "    test_periods = pd.read_csv(base_path + 'periods_test.csv', parse_dates=['date_from', 'date_to'])\n",
    "\n",
    "    all_periods = pd.concat([\n",
    "        train_periods,\n",
    "        test_periods\n",
    "    ])\n",
    "\n",
    "    del train_periods\n",
    "    del test_periods\n",
    "    gc.collect()\n",
    "\n",
    "    # Calculating how many times / for how long each item_id was put on site\n",
    "    all_periods['days_up'] = all_periods['date_to'].dt.dayofyear - all_periods['date_from'].dt.dayofyear\n",
    "    gp = all_periods.groupby(['item_id'])[['days_up']]\n",
    "    item_up_features = pd.DataFrame()\n",
    "    item_up_features['days_up_sum'] = gp.sum()['days_up']\n",
    "    item_up_features['times_put_up'] = gp.count()['days_up']\n",
    "    item_up_features.reset_index(inplace=True)\n",
    "    item_up_features.rename(index=str, columns={'index': 'item_id'})\n",
    "\n",
    "    all_periods.drop_duplicates(['item_id'], inplace=True)\n",
    "    all_periods = all_periods.merge(item_up_features, on='item_id', how='left')\n",
    "    all_periods = all_periods.merge(all_samples, on='item_id', how='left')\n",
    "\n",
    "    gp = all_periods.groupby(['user_id'])[['days_up_sum', 'times_put_up']].mean().reset_index() \\\n",
    "    .rename(index=str, columns={\n",
    "        'days_up_sum': 'avg_days_up_user',\n",
    "        'times_put_up': 'avg_times_up_user'\n",
    "    })\n",
    "\n",
    "    n_user_items = all_samples.groupby(['user_id'])[['item_id']].count().reset_index() \\\n",
    "    .rename(index=str, columns={\n",
    "        'item_id': 'n_user_items'\n",
    "    })\n",
    "    gp = gp.merge(n_user_items, on='user_id', how='outer')\n",
    "\n",
    "    user_features = gp.groupby(\"user_id\").mean().to_dict()\n",
    "    return user_features"
   ]
  },
  {
   "cell_type": "code",
   "execution_count": 11,
   "metadata": {},
   "outputs": [
    {
     "name": "stdout",
     "output_type": "stream",
     "text": [
      "Loading cached user features\n"
     ]
    }
   ],
   "source": [
    "if os.path.isfile(\"user_features.pickle\"):\n",
    "    print(\"Loading cached user features\")\n",
    "    with open(\"user_features.pickle\", \"rb\") as f:\n",
    "        user_features = pickle.load(f)\n",
    "else:\n",
    "    print(\"Calculating and caching user features\")\n",
    "    user_features = get_user_feature_map()\n",
    "    with open(\"user_features.pickle\", \"wb\") as f:\n",
    "        pickle.dump(user_features, f)"
   ]
  },
  {
   "cell_type": "code",
   "execution_count": 12,
   "metadata": {},
   "outputs": [],
   "source": [
    "for x in [\"avg_days_up_user\", \"avg_times_up_user\", \"n_user_items\"]:\n",
    "    df[x] = make_col_from_dict_untupled(df['user_id'], user_features[x])\n",
    "    df[x].fillna(-1.0, inplace=True)"
   ]
  },
  {
   "cell_type": "code",
   "execution_count": 13,
   "metadata": {},
   "outputs": [
    {
     "data": {
      "text/plain": [
       "49"
      ]
     },
     "execution_count": 13,
     "metadata": {},
     "output_type": "execute_result"
    }
   ],
   "source": [
    "del user_features\n",
    "gc.collect()"
   ]
  },
  {
   "cell_type": "markdown",
   "metadata": {},
   "source": [
    "# Date/region/city features\n",
    "I'll clean this mess"
   ]
  },
  {
   "cell_type": "code",
   "execution_count": 14,
   "metadata": {},
   "outputs": [],
   "source": [
    "df_active = pd.read_csv(base_path + \"train_active.csv\", parse_dates=[\"activation_date\"], \n",
    "                        usecols=[\"region\", \"city\", \"category_name\", \"item_id\", \"activation_date\"])\n",
    "df_active.set_index(\"item_id\", inplace=True)"
   ]
  },
  {
   "cell_type": "code",
   "execution_count": 37,
   "metadata": {
    "scrolled": true
   },
   "outputs": [],
   "source": [
    "df_active_test = pd.read_csv(base_path + \"test_active.csv\", parse_dates=[\"activation_date\"], \n",
    "                             usecols=[\"region\", \"city\", \"category_name\", \"item_id\", \"activation_date\"])\n",
    "df_active_test.set_index(\"item_id\", inplace=True)"
   ]
  },
  {
   "cell_type": "code",
   "execution_count": 38,
   "metadata": {},
   "outputs": [],
   "source": [
    "df_active = pd.concat([df_active, df_active_test])\n",
    "del df_active_test"
   ]
  },
  {
   "cell_type": "markdown",
   "metadata": {},
   "source": [
    "Periods"
   ]
  },
  {
   "cell_type": "code",
   "execution_count": 39,
   "metadata": {},
   "outputs": [],
   "source": [
    "df_periods = pd.read_csv(base_path + \"periods_train.csv\", parse_dates = [\"date_from\", \"date_to\"],\n",
    "                        usecols = [\"item_id\", \"date_from\", \"date_to\"])\n",
    "df_periods.set_index(\"item_id\", inplace=True)"
   ]
  },
  {
   "cell_type": "code",
   "execution_count": 40,
   "metadata": {},
   "outputs": [],
   "source": [
    "df_periods_test = pd.read_csv(base_path + \"periods_test.csv\", parse_dates = [\"date_from\", \"date_to\"],\n",
    "                        usecols = [\"item_id\", \"date_from\", \"date_to\"])\n",
    "df_periods_test.set_index(\"item_id\", inplace=True)"
   ]
  },
  {
   "cell_type": "code",
   "execution_count": 41,
   "metadata": {},
   "outputs": [],
   "source": [
    "df_periods = pd.concat([df_periods, df_periods_test])\n",
    "del df_periods_test"
   ]
  },
  {
   "cell_type": "markdown",
   "metadata": {},
   "source": [
    "Merging, making features"
   ]
  },
  {
   "cell_type": "code",
   "execution_count": 42,
   "metadata": {},
   "outputs": [
    {
     "data": {
      "text/plain": [
       "186"
      ]
     },
     "execution_count": 42,
     "metadata": {},
     "output_type": "execute_result"
    }
   ],
   "source": [
    "joined = df_active.join(df_periods)\n",
    "del df_periods, df_active\n",
    "gc.collect()"
   ]
  },
  {
   "cell_type": "code",
   "execution_count": 43,
   "metadata": {},
   "outputs": [],
   "source": [
    "joined.reset_index(inplace=True)"
   ]
  },
  {
   "cell_type": "code",
   "execution_count": 44,
   "metadata": {},
   "outputs": [],
   "source": [
    "joined[\"date_diff\"] = joined[\"date_to\"].dt.dayofyear - joined[\"date_from\"].dt.dayofyear"
   ]
  },
  {
   "cell_type": "code",
   "execution_count": 45,
   "metadata": {},
   "outputs": [],
   "source": [
    "repeats = joined.groupby(\"item_id\")[\"region\"].count().to_dict()\n",
    "joined[\"repeats\"] = joined[\"item_id\"].apply(lambda x: repeats.get(x))"
   ]
  },
  {
   "cell_type": "code",
   "execution_count": 46,
   "metadata": {},
   "outputs": [],
   "source": [
    "from scipy.stats import describe\n",
    "joined[\"date_diff\"].fillna(-1.0, inplace=True)"
   ]
  },
  {
   "cell_type": "code",
   "execution_count": 47,
   "metadata": {},
   "outputs": [],
   "source": [
    "with open(\"date_features.pickle\", \"wb\") as f:\n",
    "    pickle.dump(joined, f)"
   ]
  },
  {
   "cell_type": "markdown",
   "metadata": {},
   "source": [
    "### Applying features"
   ]
  },
  {
   "cell_type": "code",
   "execution_count": 15,
   "metadata": {},
   "outputs": [],
   "source": [
    "with open(\"date_features.pickle\", \"rb\") as f:\n",
    "    joined = pickle.load(f)"
   ]
  },
  {
   "cell_type": "code",
   "execution_count": 16,
   "metadata": {
    "scrolled": true
   },
   "outputs": [
    {
     "name": "stdout",
     "output_type": "stream",
     "text": [
      "Region\n",
      "City\n",
      "Just category\n"
     ]
    }
   ],
   "source": [
    "print(\"Region\")\n",
    "reg_cat = joined.groupby([\"region\", \"category_name\"])\n",
    "reg_cat_diff = reg_cat[\"date_diff\"].mean().to_dict()\n",
    "reg_cat_count = reg_cat[\"date_diff\"].count().to_dict()\n",
    "reg_cat_repeats = reg_cat[\"repeats\"].mean().to_dict()\n",
    "\n",
    "print(\"City\")\n",
    "city_cat = joined.groupby([\"city\", \"category_name\"])\n",
    "city_cat_diff = city_cat[\"date_diff\"].mean().to_dict()\n",
    "city_cat_count = city_cat[\"date_diff\"].count().to_dict()\n",
    "city_cat_repeats = city_cat[\"repeats\"].mean().to_dict()\n",
    "\n",
    "print(\"Just category\")\n",
    "just_cat = joined.groupby([\"category_name\"])\n",
    "just_cat_diff = just_cat[\"date_diff\"].mean().to_dict()\n",
    "just_cat_count = just_cat[\"date_diff\"].count().to_dict()\n",
    "just_cat_repeats = just_cat[\"repeats\"].mean().to_dict()"
   ]
  },
  {
   "cell_type": "code",
   "execution_count": 17,
   "metadata": {},
   "outputs": [],
   "source": [
    "df[\"category_date_diff\"] = df[\"category_name\"].apply(lambda x: just_cat_diff.get(x, -1.0))\n",
    "df[\"category_count\"] = df[\"category_name\"].apply(lambda x: just_cat_count.get(x, -1.0))\n",
    "df[\"category_repeats\"] = df[\"category_name\"].apply(lambda x: just_cat_repeats.get(x, -1.0))\n",
    "\n",
    "df[\"region_category_date_diff\"] = make_col_from_dict(df[[\"region\", \"category_name\"]], reg_cat_diff)\n",
    "df[\"region_category_repeats\"] = make_col_from_dict(df[[\"region\", \"category_name\"]], reg_cat_repeats)\n",
    "df[\"region_category_counts\"] = make_col_from_dict(df[[\"region\", \"category_name\"]], reg_cat_count)\n",
    "\n",
    "df[\"city_category_date_diff\"] = make_col_from_dict(df[[\"city\", \"category_name\"]], city_cat_diff)\n",
    "df[\"city_category_repeats\"] = make_col_from_dict(df[[\"city\", \"category_name\"]], city_cat_repeats)\n",
    "df[\"city_category_counts\"] = make_col_from_dict(df[[\"city\", \"category_name\"]], city_cat_count)"
   ]
  },
  {
   "cell_type": "code",
   "execution_count": 18,
   "metadata": {},
   "outputs": [],
   "source": [
    "df.drop([\"activation_date\"], axis=1, inplace=True)"
   ]
  },
  {
   "cell_type": "code",
   "execution_count": 19,
   "metadata": {},
   "outputs": [],
   "source": [
    "del joined"
   ]
  },
  {
   "cell_type": "markdown",
   "metadata": {},
   "source": [
    "# Image features\n",
    "Image features are the most computational-intensive features in this notebook. They are calculated in separate (img_features.ipynb)[notebook]."
   ]
  },
  {
   "cell_type": "code",
   "execution_count": 20,
   "metadata": {},
   "outputs": [],
   "source": [
    "def load_pairs(filenames):\n",
    "    d = {}\n",
    "    for f in filenames:\n",
    "        with open(f, \"rb\") as f:\n",
    "            while True:\n",
    "                try:\n",
    "                    pair = pickle.load(f)\n",
    "                    d[pair[0]] = np.array(pair[1])\n",
    "                except EOFError:\n",
    "                    break\n",
    "    return d, len(pair[1])\n",
    "\n",
    "def append_feature_pairs(df, image_col, pair_dict, pair_len, feature_names):\n",
    "    zero_obj = -np.ones((pair_len))\n",
    "    packed_images_vectors = image_col.apply(lambda x: pair_dict.get(str(x), zero_obj))\n",
    "    df[feature_names] = pd.DataFrame(packed_images_vectors.values.tolist(), index=df.index)"
   ]
  },
  {
   "cell_type": "markdown",
   "metadata": {},
   "source": [
    "### Dense vectors"
   ]
  },
  {
   "cell_type": "code",
   "execution_count": 21,
   "metadata": {},
   "outputs": [],
   "source": [
    "image_vectors_dense, p_len = load_pairs([\"vectors_compacted1300k.pickle\"])\n",
    "dense_img_vec_names = [str(x + 1) + \"_dense_img_vector\" for x in range(p_len)]\n",
    "append_feature_pairs(df, df[\"image\"] + \".jpg\", image_vectors_dense, p_len, dense_img_vec_names)\n",
    "del image_vectors_dense"
   ]
  },
  {
   "cell_type": "markdown",
   "metadata": {},
   "source": [
    "### Image basic parameters (class, size, average colors etc)"
   ]
  },
  {
   "cell_type": "code",
   "execution_count": 22,
   "metadata": {
    "scrolled": false
   },
   "outputs": [],
   "source": [
    "feature_dict, p_len = load_pairs([str(x) + \"_img.pickle\" for x in range(8)])\n",
    "simple_img_features = [\n",
    "    \"blurrness\", \n",
    "    \"size\", \"dims\",\n",
    "    \"w\", \"h\", \n",
    "    \"avg_color_r\", \"avg_color_g\", \"avg_color_b\",\n",
    "    \"pixel_w\",\n",
    "    \"light\", \"darkness\", \"img_class\", \"img_proba\"]\n",
    "\n",
    "append_feature_pairs(df, df[\"image\"], feature_dict, p_len, simple_img_features)\n",
    "del feature_dict"
   ]
  },
  {
   "cell_type": "code",
   "execution_count": 23,
   "metadata": {},
   "outputs": [],
   "source": [
    "# :)\n",
    "df[\"img_class\"] = df[\"img_class\"].apply(lambda x: int(round(x)))"
   ]
  },
  {
   "cell_type": "markdown",
   "metadata": {},
   "source": [
    "### Palette features"
   ]
  },
  {
   "cell_type": "code",
   "execution_count": 24,
   "metadata": {},
   "outputs": [],
   "source": [
    "image_pal_dict, p_len = load_pairs([str(x) + \"_pal.pickle\" for x in range(16)])\n",
    "pal_feature_names = [\n",
    "    \"cful\",\n",
    "    \"dom1y\", \"dom1u\", \"dom1v\",\n",
    "    \"dom2y\", \"dom2u\", \"dom2v\",\n",
    "    \"dom1portion\", \"dom2portion\",\n",
    "    \"ymean\", \"umean\", \"vmean\",\n",
    "    \"yvar\", \"uvar\", \"vvar\",\n",
    "    \"hmean\", \"lmean\", \"smean\",\n",
    "    \"hvar\", \"lvar\", \"svar\",\n",
    "]\n",
    "\n",
    "append_feature_pairs(df, df[\"image\"] + \".jpg\", image_pal_dict, p_len, pal_feature_names)\n",
    "del image_pal_dict"
   ]
  },
  {
   "cell_type": "markdown",
   "metadata": {},
   "source": [
    "### Image segmentation features"
   ]
  },
  {
   "cell_type": "code",
   "execution_count": 25,
   "metadata": {},
   "outputs": [],
   "source": [
    "image_seg_dict, p_len = load_pairs([\"segment_features.pickle\"])\n",
    "seg_feature_names = ['kp5',\n",
    " 'kp10',\n",
    " 'kp20',\n",
    " 'mask_size_64',\n",
    " 'contour_size_64',\n",
    " 'largest_contour_size_64',\n",
    " 'contours_64_larger_5',\n",
    " 'contours_64_larger_100',\n",
    " 'contours_64_larger_500',\n",
    " 'mask_size_128',\n",
    " 'contour_size_128',\n",
    " 'largest_contour_size_128',\n",
    " 'contours_128_larger_5',\n",
    " 'contours_128_larger_100',\n",
    " 'contours_128_larger_500',\n",
    " 'mask_size_192',\n",
    " 'contour_size_192',\n",
    " 'largest_contour_size_192',\n",
    " 'contours_192_larger_5',\n",
    " 'contours_192_larger_100',\n",
    " 'contours_192_larger_500']\n",
    "\n",
    "append_feature_pairs(df, df[\"image\"] + \".jpg\", image_seg_dict, p_len, seg_feature_names)\n",
    "del image_seg_dict"
   ]
  },
  {
   "cell_type": "markdown",
   "metadata": {},
   "source": [
    "### Clean-up\n",
    "Some features have NaNs or Infs in them. Let's fill these"
   ]
  },
  {
   "cell_type": "code",
   "execution_count": 26,
   "metadata": {},
   "outputs": [],
   "source": [
    "for col in simple_img_features + pal_feature_names + seg_feature_names:\n",
    "    df.loc[~np.isfinite(df[col]), col] = -1.0\n",
    "# df[[\"image\"] + pal_feature_names + simple_img_features + dense_img_vec_names].to_csv(\"img_export.csv\")\n",
    "df.drop([\"image\"], axis=1, inplace=True)"
   ]
  },
  {
   "cell_type": "markdown",
   "metadata": {},
   "source": [
    "# City and region extra data\n",
    "Adding extra features provided by my teammates. These numbers were crawled from Wikipedia, and add (subtract :) few extra scoring points"
   ]
  },
  {
   "cell_type": "code",
   "execution_count": 27,
   "metadata": {},
   "outputs": [],
   "source": [
    "city_pop = pd.read_csv(\"city_population_wiki_v3.csv\")\n",
    "city_pop = city_pop.groupby(\"city\")[\"population\"].mean().to_dict()"
   ]
  },
  {
   "cell_type": "code",
   "execution_count": 28,
   "metadata": {},
   "outputs": [],
   "source": [
    "df[\"city_pop\"] = df[\"city\"].apply(lambda x: city_pop.get(x, -1.0))"
   ]
  },
  {
   "cell_type": "code",
   "execution_count": 29,
   "metadata": {},
   "outputs": [],
   "source": [
    "region_stats = pd.read_csv(\"zarplata2.csv\")\n",
    "def preproc_region(x):\n",
    "    return x.lower().replace(\"обл.\", \"\").replace(\"область\", \"\").replace(\" \", \"\")\n",
    "region_stats[\"region\"] = region_stats[\"region\"].apply(preproc_region)\n",
    "region_stats = region_stats.groupby(\"region\").mean().to_dict()"
   ]
  },
  {
   "cell_type": "code",
   "execution_count": 30,
   "metadata": {},
   "outputs": [],
   "source": [
    "for x in [\"zarplata\",\"woman\",\"mduh\",\"mtrud\",\"mpens\",\"mdet\"]:\n",
    "    df[x] = df[\"region\"].apply(lambda y: region_stats[x].get(preproc_region(y), -1.0))"
   ]
  },
  {
   "cell_type": "code",
   "execution_count": 31,
   "metadata": {},
   "outputs": [],
   "source": [
    "del region_stats, city_pop"
   ]
  },
  {
   "cell_type": "markdown",
   "metadata": {},
   "source": [
    "# Text features"
   ]
  },
  {
   "cell_type": "markdown",
   "metadata": {},
   "source": [
    "### Simple character/word-level feautres\n",
    "How many words/specific character there are in description/title"
   ]
  },
  {
   "cell_type": "code",
   "execution_count": 32,
   "metadata": {},
   "outputs": [],
   "source": [
    "def count_consecutive_upper(x):\n",
    "    tops = 0\n",
    "    current = 0\n",
    "    last = False\n",
    "    for l in x:\n",
    "        if l.isupper():\n",
    "            current += 1\n",
    "            last = True\n",
    "        else:\n",
    "            if last:\n",
    "                last = False\n",
    "                tops = max(current, tops)\n",
    "                current = 0\n",
    "    return max(current, tops)"
   ]
  },
  {
   "cell_type": "code",
   "execution_count": 33,
   "metadata": {
    "scrolled": false
   },
   "outputs": [
    {
     "name": "stdout",
     "output_type": "stream",
     "text": [
      "description...\n",
      "title...\n"
     ]
    }
   ],
   "source": [
    "import re\n",
    "import string\n",
    "nonascii_pattern = re.compile('[\\x00-\\x7f]')\n",
    "\n",
    "for col in [\"description\", \"title\"]:\n",
    "    df[col] = df[col].fillna(\"\")\n",
    "    print(col + \"...\")\n",
    "    df[col + \"_tokens\"] = df[col].apply(lambda x: len(x.split()))\n",
    "    df[col + \"_consecutive_\"] = df[col].apply(lambda x: count_consecutive_upper(x))\n",
    "    df[col + \"_len\"] = df[col].apply(lambda x: len(x))\n",
    "    df[col + \"_upper\"] = df[col].apply(lambda x: sum([y.isupper() for y in x]))\n",
    "    df[col + \"_upper_frac\"] = df[col + \"_upper\"] / (df[col + \"_len\"] + 0.001)\n",
    "    df[col + \"_punct\"] = df[col].apply(lambda x: sum([y in string.punctuation for y in x]))\n",
    "    df[col + \"_punct_frac\"] = df[col + \"_punct\"] / (df[col + \"_len\"] + 0.001)\n",
    "    df[col + \"_special\"] = df[col].apply(lambda x: len(re.sub(nonascii_pattern, '', x)))\n",
    "    df[col + \"_special_frac\"] = df[col + \"_special\"] / (df[col + \"_len\"] + 0.001)\n",
    "    if col == \"description\":\n",
    "        df.drop(\"description_upper\", axis = 1, inplace = True)\n",
    "        df.drop(\"description_punct\", axis = 1, inplace = True)\n",
    "    if col == \"title\":\n",
    "        df.drop(\"title_upper\", axis = 1, inplace = True)\n",
    "        df.drop(\"title_punct\", axis = 1, inplace = True)"
   ]
  },
  {
   "cell_type": "markdown",
   "metadata": {},
   "source": [
    "### SVD/BOW features\n",
    "Stemming slightly improves score, but takes a while to calculate, so I stem words and cache results in [separate notebook](stemming.ipynb)."
   ]
  },
  {
   "cell_type": "code",
   "execution_count": 34,
   "metadata": {},
   "outputs": [],
   "source": [
    "import pickle\n",
    "\n",
    "with open(\"stemmed.pickle\", \"rb\") as f:\n",
    "    title_stemmed, description_stemmed, params_stemmed = pickle.load(f)\n",
    "    \n",
    "df[\"title_stemmed\"] = pd.Series(title_stemmed, df.index)\n",
    "df[\"description_stemmed\"] = pd.Series(description_stemmed, df.index)\n",
    "df[\"params_stemmed\"] = pd.Series(params_stemmed, df.index)\n",
    "\n",
    "del title_stemmed, description_stemmed, params_stemmed"
   ]
  },
  {
   "cell_type": "markdown",
   "metadata": {},
   "source": [
    "### SVD\n",
    "Idea is rather simple: create TF-IDF matrices and compact them into dense representations using truncated SVD. Such dense representations capture most of the variance of the original TF-IDF matrix, so we can say that it extracts \"patterns\" from it, and estimates how close each title/description to each pattern.\n",
    "\n",
    "I run title/description/param SVDs separately because otherwise words from lengthy descriptions will overwhelm words from title and params.\n",
    "\n"
   ]
  },
  {
   "cell_type": "code",
   "execution_count": 35,
   "metadata": {},
   "outputs": [],
   "source": [
    "from sklearn.feature_extraction.text import TfidfVectorizer, CountVectorizer\n",
    "from sklearn.decomposition import TruncatedSVD\n",
    "\n",
    "def make_svd_features(df, column, features_prefix, n_comp = 15, ngram_range=(1,1), max_features=25000):\n",
    "    print(features_prefix)\n",
    "    tfidf_vec = TfidfVectorizer(ngram_range = ngram_range, max_features=max_features)\n",
    "    full_tfidf = tfidf_vec.fit_transform(df[col].fillna(\"\").values.tolist())\n",
    "\n",
    "    svd_obj = TruncatedSVD(n_components=n_comp, algorithm='arpack')\n",
    "    svd_obj.fit(full_tfidf)\n",
    "    df_svd = pd.DataFrame(svd_obj.transform(full_tfidf))\n",
    "    df_svd.columns = [features_prefix + \"_\" + str(i+1) for i in range(n_comp)]\n",
    "    df_svd.set_index(df.index, inplace=True)\n",
    "    df[df_svd.columns] = df_svd"
   ]
  },
  {
   "cell_type": "code",
   "execution_count": 36,
   "metadata": {},
   "outputs": [
    {
     "name": "stdout",
     "output_type": "stream",
     "text": [
      "svd_description_stemmed\n",
      "svd_title_stemmed\n",
      "svd_params_stemmed\n"
     ]
    }
   ],
   "source": [
    "make_svd_features(df, df[\"description_stemmed\"], \"svd_description_stemmed\")\n",
    "make_svd_features(df, df[\"title_stemmed\"], \"svd_title_stemmed\")\n",
    "make_svd_features(df, df[\"params_stemmed\"], \"svd_params_stemmed\")"
   ]
  },
  {
   "cell_type": "markdown",
   "metadata": {},
   "source": [
    "### BOW + prediction\n",
    "I should rewrite this mess"
   ]
  },
  {
   "cell_type": "code",
   "execution_count": 112,
   "metadata": {
    "scrolled": false
   },
   "outputs": [
    {
     "name": "stdout",
     "output_type": "stream",
     "text": [
      "\n",
      "[TF-IDF] Term Frequency Inverse Document Frequency Stage\n",
      "Vectorization Runtime: 15.95 Minutes\n"
     ]
    }
   ],
   "source": [
    "print(\"\\n[TF-IDF] Term Frequency Inverse Document Frequency Stage\")\n",
    "russian_stop = set(stopwords.words('russian')) | set(stopwords.words('english'))\n",
    "\n",
    "tfidf_para = {\n",
    "    \"stop_words\": russian_stop,\n",
    "    \"analyzer\": 'word',\n",
    "    \"token_pattern\": r'\\w{1,}',\n",
    "    \"sublinear_tf\": True,\n",
    "    \"dtype\": np.float32,\n",
    "    \"norm\": 'l2',\n",
    "    #\"min_df\":5,\n",
    "    #\"max_df\":.9,\n",
    "    \"smooth_idf\":False\n",
    "}\n",
    "\n",
    "\n",
    "def get_col(col_name): return lambda x: x[col_name]\n",
    "##I added to the max_features of the description. It did not change my score much but it may be worth investigating\n",
    "vectorizer = FeatureUnion([\n",
    "    ('description_stemmed', TfidfVectorizer(\n",
    "        ngram_range=(1, 2),\n",
    "        max_features=25000,\n",
    "        **tfidf_para,\n",
    "        preprocessor=get_col('description_stemmed'))),\n",
    "    ('title_stemmed', TfidfVectorizer(\n",
    "        ngram_range=(1, 2),\n",
    "        stop_words = russian_stop,\n",
    "        preprocessor=get_col('title_stemmed'))),\n",
    "    ('params_stemmed', CountVectorizer(\n",
    "        ngram_range=(1, 2),\n",
    "        stop_words = russian_stop,\n",
    "        preprocessor=get_col('params_stemmed')))\n",
    "])\n",
    "\n",
    "start_vect=time.time()\n",
    "\n",
    "#Fit my vectorizer on the entire dataset instead of the training rows\n",
    "#Score improved by .0001\n",
    "vectorizer.fit(df.to_dict('records'))\n",
    "\n",
    "ready_df = vectorizer.transform(df.to_dict('records'))\n",
    "sparse_vocab = vectorizer.get_feature_names()\n",
    "print(\"Vectorization Runtime: %0.2f Minutes\"%((time.time() - start_vect)/60))"
   ]
  },
  {
   "cell_type": "code",
   "execution_count": null,
   "metadata": {
    "scrolled": true
   },
   "outputs": [
    {
     "name": "stdout",
     "output_type": "stream",
     "text": [
      "\n",
      "Fold 0\n",
      "\n",
      "Fold 1\n",
      "\n",
      "Fold 2\n",
      "\n",
      "Fold 3\n",
      "\n",
      "Fold 4\n",
      "Alpha: 10.0 ridge OOF RMSE: 0.2281048581285804\n",
      "\n",
      "Fold 0\n",
      "\n",
      "Fold 1\n",
      "\n",
      "Fold 2\n",
      "\n",
      "Fold 3\n",
      "\n",
      "Fold 4\n",
      "Alpha: 12.0 ridge OOF RMSE: 0.2280527873142504\n",
      "\n",
      "Fold 0\n",
      "\n",
      "Fold 1\n",
      "\n",
      "Fold 2\n",
      "\n",
      "Fold 3\n",
      "\n",
      "Fold 4\n",
      "Alpha: 14.0 ridge OOF RMSE: 0.2280304101872446\n",
      "\n",
      "Fold 0\n",
      "\n",
      "Fold 1\n",
      "\n",
      "Fold 2\n",
      "\n",
      "Fold 3\n",
      "\n",
      "Fold 4\n",
      "Alpha: 16.0 ridge OOF RMSE: 0.228026555425142\n",
      "\n",
      "Fold 0\n",
      "\n",
      "Fold 1\n",
      "\n",
      "Fold 2\n",
      "\n",
      "Fold 3\n",
      "\n",
      "Fold 4\n",
      "Alpha: 18.0 ridge OOF RMSE: 0.22803482766865815\n",
      "\n",
      "Fold 0\n",
      "\n",
      "Fold 1\n",
      "\n",
      "Fold 2\n",
      "\n",
      "Fold 3\n",
      "\n",
      "Fold 4\n",
      "Alpha: 20.0 ridge OOF RMSE: 0.22805137752093924\n",
      "\n",
      "Fold 0\n",
      "\n",
      "Fold 1\n",
      "\n",
      "Fold 2\n",
      "\n",
      "Fold 3\n",
      "\n",
      "Fold 4\n",
      "Alpha: 22.0 ridge OOF RMSE: 0.22807352974043002\n",
      "\n",
      "Fold 0\n",
      "\n",
      "Fold 1\n",
      "\n",
      "Fold 2\n",
      "\n",
      "Fold 3\n",
      "\n",
      "Fold 4\n",
      "Alpha: 24.0 ridge OOF RMSE: 0.22809959113507244\n",
      "\n",
      "Fold 0\n",
      "\n",
      "Fold 1\n",
      "\n",
      "Fold 2\n",
      "\n",
      "Fold 3\n",
      "\n",
      "Fold 4\n",
      "Alpha: 26.0 ridge OOF RMSE: 0.2281284762683046\n",
      "\n",
      "Fold 0\n",
      "\n",
      "Fold 1\n",
      "\n",
      "Fold 2\n",
      "\n",
      "Fold 3\n",
      "\n",
      "Fold 4\n",
      "Alpha: 28.0 ridge OOF RMSE: 0.22815931203386491\n",
      "\n",
      "Fold 0\n",
      "\n",
      "Fold 1\n",
      "\n",
      "Fold 2\n",
      "\n",
      "Fold 3\n"
     ]
    }
   ],
   "source": [
    "from sklearn.cross_validation import KFold\n",
    "kf = KFold(ntrain, n_folds=NFOLDS, shuffle=True, random_state=SEED)\n",
    "\n",
    "from sklearn.metrics import mean_squared_error\n",
    "from math import sqrt\n",
    "\n",
    "rmses = {}\n",
    "best_oof = None\n",
    "\n",
    "for alpha in np.arange(10.0, 40.0, 2.0):\n",
    "    ridge_params = {'alpha': alpha, 'fit_intercept':True, 'normalize':False, 'copy_X':True,\n",
    "                    'max_iter':None, 'tol':0.001, 'solver':'auto', 'random_state':SEED}\n",
    "\n",
    "    #Ridge oof method from Faron's kernel\n",
    "    #I was using this to analyze my vectorization, but figured it would be interesting to add the results back into the dataset\n",
    "    #It doesn't really add much to the score, but it does help lightgbm converge faster\n",
    "    ridge = SklearnWrapper(clf=Ridge, seed = SEED, params = ridge_params)\n",
    "    \n",
    "    ridge_oof_train, ridge_oof_test = get_oof(ridge, ready_df[:ntrain], y, ready_df[ntrain:])\n",
    "    \n",
    "    rms = sqrt(mean_squared_error(y, ridge_oof_train))\n",
    "    rmses[alpha] = rms\n",
    "    if rms == min(rmses.values()):\n",
    "        best_oof = (ridge_oof_train, ridge_oof_test)\n",
    "    print('Alpha: ' + str(alpha) + ' ridge OOF RMSE: {}'.format(rms))"
   ]
  },
  {
   "cell_type": "code",
   "execution_count": null,
   "metadata": {},
   "outputs": [],
   "source": [
    "with open(\"tf-idf.pickle\", \"wb\") as f:\n",
    "    pickle.dump(ready_df, f)\n",
    "    pickle.dump(best_oof, f)\n",
    "    pickle.dump(sparse_vocab, f)"
   ]
  },
  {
   "cell_type": "markdown",
   "metadata": {},
   "source": [
    "### Using features"
   ]
  },
  {
   "cell_type": "code",
   "execution_count": 37,
   "metadata": {},
   "outputs": [],
   "source": [
    "with open(\"tf-idf.pickle\", \"rb\") as f:\n",
    "    ready_df = pickle.load(f)\n",
    "    best_oof = pickle.load(f)\n",
    "    sparse_vocab = pickle.load(f)"
   ]
  },
  {
   "cell_type": "code",
   "execution_count": 38,
   "metadata": {},
   "outputs": [],
   "source": [
    "ridge_oof_train, ridge_oof_test = best_oof"
   ]
  },
  {
   "cell_type": "code",
   "execution_count": 39,
   "metadata": {},
   "outputs": [],
   "source": [
    "ridge_preds = np.concatenate([ridge_oof_train, ridge_oof_test])\n",
    "df['ridge_preds'] = ridge_preds"
   ]
  },
  {
   "cell_type": "code",
   "execution_count": 40,
   "metadata": {
    "scrolled": true
   },
   "outputs": [],
   "source": [
    "df.drop([\"title_stemmed\", \"description_stemmed\", \"params_stemmed\"], axis=1,inplace=True)\n",
    "df.drop([\"description\", \"title\"], axis=1,inplace=True)"
   ]
  },
  {
   "cell_type": "markdown",
   "metadata": {},
   "source": [
    "# KNN features\n",
    "Idea of these features: let's take some features and distance measure, and find nearest objects according to it. After that, let's extract features from those objects (price mean/variance, for example).\n",
    "\n",
    "It takes ~30 hours to build these features from scratch. So, they are calculated in separate notebook and cached."
   ]
  },
  {
   "cell_type": "code",
   "execution_count": 41,
   "metadata": {},
   "outputs": [],
   "source": [
    "tfidf_nearest_features = pd.read_csv(\"tf_idf_nearest_features.csv.zip\", compression=\"zip\")\n",
    "tfidf_nearest_features.set_index(\"item_id\", inplace=True)"
   ]
  },
  {
   "cell_type": "code",
   "execution_count": 42,
   "metadata": {},
   "outputs": [],
   "source": [
    "img_nearest_features = pd.read_csv(\"img_nearest_features.csv.zip\", compression=\"zip\")\n",
    "img_nearest_features.set_index(\"item_id\", inplace=True)"
   ]
  },
  {
   "cell_type": "code",
   "execution_count": 43,
   "metadata": {},
   "outputs": [],
   "source": [
    "cat_img_nearest_features = pd.read_csv(\"cat_nearest_features.csv.zip\", compression=\"zip\")\n",
    "cat_img_nearest_features.set_index(\"item_id\", inplace=True)"
   ]
  },
  {
   "cell_type": "code",
   "execution_count": 44,
   "metadata": {},
   "outputs": [],
   "source": [
    "df[tfidf_nearest_features.columns] = tfidf_nearest_features\n",
    "df[img_nearest_features.columns] = img_nearest_features\n",
    "df[cat_img_nearest_features.columns] = cat_img_nearest_features"
   ]
  },
  {
   "cell_type": "code",
   "execution_count": 45,
   "metadata": {},
   "outputs": [],
   "source": [
    "for col in list(tfidf_nearest_features.columns) + list(img_nearest_features.columns) + list(cat_img_nearest_features.columns):\n",
    "    df[col].fillna(-999.0, inplace=True)"
   ]
  },
  {
   "cell_type": "markdown",
   "metadata": {},
   "source": [
    "Unfortunately, target features induce leaks. In future, I should use folds to properly calculate them. For now, let's just drop them."
   ]
  },
  {
   "cell_type": "code",
   "execution_count": 46,
   "metadata": {
    "scrolled": true
   },
   "outputs": [],
   "source": [
    "to_drop = []\n",
    "for col in df.columns:\n",
    "    if \"target\" in col:\n",
    "        to_drop.append(col)\n",
    "if len(to_drop) > 0:\n",
    "    df.drop(to_drop, axis=1, inplace=True)"
   ]
  },
  {
   "cell_type": "code",
   "execution_count": 47,
   "metadata": {},
   "outputs": [
    {
     "data": {
      "text/plain": [
       "119"
      ]
     },
     "execution_count": 47,
     "metadata": {},
     "output_type": "execute_result"
    }
   ],
   "source": [
    "del img_nearest_features, tfidf_nearest_features, cat_img_nearest_features\n",
    "gc.collect()"
   ]
  },
  {
   "cell_type": "markdown",
   "metadata": {},
   "source": [
    "# Similarity features\n",
    "Core idea of these features is similar to the nearest neighbout-based features. But instead of calculating features from nearest neighbours, let's estimate how much particular item sticks out from his category/class according to this distance metric."
   ]
  },
  {
   "cell_type": "code",
   "execution_count": 48,
   "metadata": {},
   "outputs": [],
   "source": [
    "def make_similarity_feature(group_col, variables_to_agg):\n",
    "    variables_to_agg = (variables_to_agg - variables_to_agg.mean()) / (variables_to_agg.max() - variables_to_agg.min())\n",
    "    sims = np.zeros((len(group_col)))\n",
    "    for x in np.unique(group_col):\n",
    "        inds = np.where(group_col == x)[0]\n",
    "        centroid = np.median(variables_to_agg.iloc[inds], axis=0)\n",
    "        sims[inds] = np.dot(variables_to_agg.iloc[inds], centroid)\n",
    "    return sims"
   ]
  },
  {
   "cell_type": "code",
   "execution_count": 49,
   "metadata": {},
   "outputs": [],
   "source": [
    "def make_similarity_feature_sparse(group_col, variables_to_agg):\n",
    "    variables_to_agg = (variables_to_agg - variables_to_agg.mean()) / (variables_to_agg.max() - variables_to_agg.min())\n",
    "    sims = np.zeros((len(group_col)))\n",
    "    for x in np.unique(group_col):\n",
    "        inds = np.where(group_col == x)[0]\n",
    "        centroid = np.median(variables_to_agg.iloc[inds], axis=0)\n",
    "        sims[inds] = np.dot(variables_to_agg.iloc[inds], centroid)\n",
    "    return sims"
   ]
  },
  {
   "cell_type": "code",
   "execution_count": 50,
   "metadata": {},
   "outputs": [],
   "source": [
    "df[\"region_cat\"] = df[\"region\"].astype(str) + \" \" + df[\"category_name\"].astype(str)\n",
    "svd_description_columns = list(filter(lambda x: \"svd_description\" in x, list(df.columns)))\n",
    "svd_title_columns = list(filter(lambda x: \"svd_title\" in x, list(df.columns)))"
   ]
  },
  {
   "cell_type": "code",
   "execution_count": 51,
   "metadata": {
    "scrolled": true
   },
   "outputs": [
    {
     "name": "stdout",
     "output_type": "stream",
     "text": [
      "sims_category_name_title_desc_svd\n",
      "sims_category_name_desc_vec\n",
      "sims_category_name_title_vec\n",
      "sims_category_name_image_vec\n",
      "sims_category_name_price\n",
      "sims_parent_category_name_title_desc_svd\n",
      "sims_parent_category_name_desc_vec\n",
      "sims_parent_category_name_title_vec\n",
      "sims_parent_category_name_image_vec\n",
      "sims_parent_category_name_price\n",
      "sims_param_1_title_desc_svd\n",
      "sims_param_1_desc_vec\n",
      "sims_param_1_title_vec\n",
      "sims_param_1_image_vec\n",
      "sims_param_1_price\n",
      "sims_param_2_title_desc_svd\n",
      "sims_param_2_desc_vec\n",
      "sims_param_2_title_vec\n",
      "sims_param_2_image_vec\n",
      "sims_param_2_price\n",
      "sims_image_top_1_title_desc_svd\n",
      "sims_image_top_1_desc_vec\n",
      "sims_image_top_1_title_vec\n",
      "sims_image_top_1_image_vec\n",
      "sims_image_top_1_price\n",
      "sims_img_class_title_desc_svd\n",
      "sims_img_class_desc_vec\n",
      "sims_img_class_title_vec\n",
      "sims_img_class_image_vec\n",
      "sims_img_class_price\n",
      "sims_region_cat_title_desc_svd\n",
      "sims_region_cat_desc_vec\n",
      "sims_region_cat_title_vec\n",
      "sims_region_cat_image_vec\n",
      "sims_region_cat_price\n"
     ]
    }
   ],
   "source": [
    "group_columns = [\"category_name\", \"parent_category_name\", \n",
    "                 \"param_1\", \"param_2\",\n",
    "                 \"image_top_1\", \"img_class\",\n",
    "                 \"region_cat\"]\n",
    "agg_columns = [\n",
    "    (\"title_desc_svd\", svd_description_columns + svd_title_columns),\n",
    "    (\"desc_vec\", svd_description_columns),\n",
    "    (\"title_vec\", svd_title_columns),\n",
    "    (\"image_vec\", dense_img_vec_names),\n",
    "    (\"price\", [\"price\"])\n",
    "]\n",
    "\n",
    "for gr in group_columns:\n",
    "    for agg_n, agg_c in agg_columns:\n",
    "        print(\"sims_\" + gr + \"_\" + agg_n)\n",
    "        sim_text = make_similarity_feature(df[gr].fillna(\"na\"), df[agg_c])\n",
    "        df[\"sims_\" + gr + \"_\" + agg_n] = pd.Series(sim_text, index = df.index)"
   ]
  },
  {
   "cell_type": "code",
   "execution_count": 52,
   "metadata": {},
   "outputs": [],
   "source": [
    "df.drop([\"region_cat\"], axis=1, inplace=True)"
   ]
  },
  {
   "cell_type": "markdown",
   "metadata": {},
   "source": [
    "# Encoding categorial variables"
   ]
  },
  {
   "cell_type": "code",
   "execution_count": 53,
   "metadata": {},
   "outputs": [
    {
     "data": {
      "text/plain": [
       "(306069, 703840)"
      ]
     },
     "execution_count": 53,
     "metadata": {},
     "output_type": "execute_result"
    }
   ],
   "source": [
    "len(set(df[\"user_id\"]) & set(testing_users)), len(set(df[\"user_id\"]) - set(testing_users))"
   ]
  },
  {
   "cell_type": "code",
   "execution_count": 54,
   "metadata": {
    "scrolled": true
   },
   "outputs": [],
   "source": [
    "# Droppping unneccessary levels\n",
    "# df[\"user_id\"][~df[\"user_id\"].isin(set(testing_users))] = \"Unknown\""
   ]
  },
  {
   "cell_type": "code",
   "execution_count": 55,
   "metadata": {},
   "outputs": [
    {
     "name": "stdout",
     "output_type": "stream",
     "text": [
      "img_class\n",
      "user_id\n",
      "region\n",
      "city\n",
      "parent_category_name\n",
      "category_name\n",
      "user_type\n",
      "image_top_1\n",
      "param_1\n",
      "param_2\n",
      "param_3\n"
     ]
    }
   ],
   "source": [
    "categorical = [\"img_class\", \"user_id\", \n",
    "               \"region\",\"city\",\"parent_category_name\",\"category_name\",\"user_type\",\n",
    "               \"image_top_1\",\"param_1\",\"param_2\",\"param_3\"]\n",
    "\n",
    "lbl = LabelEncoder()\n",
    "for col in categorical:\n",
    "    print(col)\n",
    "    df[col] = lbl.fit_transform(df[col].fillna('Unknown').astype(str))"
   ]
  },
  {
   "cell_type": "markdown",
   "metadata": {},
   "source": [
    "### Stats to ensure that everything is OK\n",
    "You might want to run this function to carefully check whether distribution of feautures in train/test are consistent."
   ]
  },
  {
   "cell_type": "code",
   "execution_count": 56,
   "metadata": {
    "scrolled": true
   },
   "outputs": [],
   "source": [
    "def describe_columns(cols = df.columns):\n",
    "    from scipy.stats import describe\n",
    "    for c in cols:\n",
    "        print(\"\\n\\n\", c, df[c][0].__class__)\n",
    "        print(c, \"train:\")\n",
    "        print(\"-1: \", sum(df.loc[traindex][c] == -1))\n",
    "        print(describe(df.loc[traindex][c][df.loc[traindex][c] != -1]))\n",
    "        print(c, \"test:\")\n",
    "        print(\"-1: \", sum(df.loc[testdex][c] == -1))\n",
    "        print(describe(df.loc[testdex][c][df.loc[testdex][c] != -1]))\n"
   ]
  },
  {
   "cell_type": "markdown",
   "metadata": {},
   "source": [
    "# Building train-test sets"
   ]
  },
  {
   "cell_type": "code",
   "execution_count": 57,
   "metadata": {},
   "outputs": [
    {
     "name": "stdout",
     "output_type": "stream",
     "text": [
      "1503424 Rows and 1268356 Cols\n",
      "508438 Rows and 1268356 Cols\n"
     ]
    },
    {
     "data": {
      "text/plain": [
       "70"
      ]
     },
     "execution_count": 57,
     "metadata": {},
     "output_type": "execute_result"
    }
   ],
   "source": [
    "X = hstack([csr_matrix(df.loc[traindex,:].values), ready_df[0:traindex.shape[0]]])\n",
    "testing = hstack([csr_matrix(df.loc[testdex,:].values), ready_df[traindex.shape[0]:]])\n",
    "tfvocab = df.columns.tolist() + sparse_vocab\n",
    "\n",
    "for shape in [X,testing]:\n",
    "    print(\"{} Rows and {} Cols\".format(*shape.shape))\n",
    "\n",
    "gc.collect()"
   ]
  },
  {
   "cell_type": "code",
   "execution_count": 58,
   "metadata": {
    "scrolled": false
   },
   "outputs": [],
   "source": [
    "# X = np.array(df.loc[traindex,:].values)\n",
    "# testing = np.array(df.loc[testdex,:].values)\n",
    "# tfvocab = df.columns.tolist() # + tfvocab\n",
    "# \n",
    "# for shape in [X,testing]:\n",
    "#     print(\"{} Rows and {} Cols\".format(*shape.shape))\n",
    "# gc.collect()"
   ]
  },
  {
   "cell_type": "markdown",
   "metadata": {},
   "source": [
    "# Running single model"
   ]
  },
  {
   "cell_type": "code",
   "execution_count": 59,
   "metadata": {
    "scrolled": true
   },
   "outputs": [
    {
     "name": "stdout",
     "output_type": "stream",
     "text": [
      "1530459339.48295\n"
     ]
    },
    {
     "name": "stderr",
     "output_type": "stream",
     "text": [
      "/usr/local/lib/python3.6/site-packages/lightgbm/basic.py:1040: UserWarning: Using categorical_feature in Dataset.\n",
      "  warnings.warn('Using categorical_feature in Dataset.')\n",
      "/usr/local/lib/python3.6/site-packages/lightgbm/basic.py:685: UserWarning: categorical_feature in param dict is overridden.\n",
      "  warnings.warn('categorical_feature in param dict is overridden.')\n"
     ]
    },
    {
     "name": "stdout",
     "output_type": "stream",
     "text": [
      "Training until validation scores don't improve for 50 rounds.\n",
      "[25]\ttrain's rmse: 0.246406\tvalid's rmse: 0.247893\n",
      "[50]\ttrain's rmse: 0.236848\tvalid's rmse: 0.23907\n",
      "[75]\ttrain's rmse: 0.229776\tvalid's rmse: 0.232894\n",
      "[100]\ttrain's rmse: 0.224943\tvalid's rmse: 0.228831\n",
      "[125]\ttrain's rmse: 0.22139\tvalid's rmse: 0.226082\n",
      "[150]\ttrain's rmse: 0.218604\tvalid's rmse: 0.224132\n",
      "[175]\ttrain's rmse: 0.216473\tvalid's rmse: 0.222816\n",
      "[200]\ttrain's rmse: 0.214687\tvalid's rmse: 0.221829\n",
      "[225]\ttrain's rmse: 0.213083\tvalid's rmse: 0.221065\n",
      "[250]\ttrain's rmse: 0.211628\tvalid's rmse: 0.220476\n",
      "[275]\ttrain's rmse: 0.210307\tvalid's rmse: 0.219998\n",
      "[300]\ttrain's rmse: 0.209185\tvalid's rmse: 0.219617\n",
      "[325]\ttrain's rmse: 0.20817\tvalid's rmse: 0.219287\n",
      "[350]\ttrain's rmse: 0.207167\tvalid's rmse: 0.219032\n",
      "[375]\ttrain's rmse: 0.20618\tvalid's rmse: 0.218801\n",
      "[400]\ttrain's rmse: 0.20529\tvalid's rmse: 0.218606\n",
      "[425]\ttrain's rmse: 0.204411\tvalid's rmse: 0.218428\n",
      "[450]\ttrain's rmse: 0.203549\tvalid's rmse: 0.218278\n",
      "[475]\ttrain's rmse: 0.202767\tvalid's rmse: 0.218143\n",
      "[500]\ttrain's rmse: 0.201949\tvalid's rmse: 0.21801\n",
      "[525]\ttrain's rmse: 0.201194\tvalid's rmse: 0.217899\n",
      "[550]\ttrain's rmse: 0.200507\tvalid's rmse: 0.217801\n",
      "[575]\ttrain's rmse: 0.199813\tvalid's rmse: 0.217711\n",
      "[600]\ttrain's rmse: 0.199102\tvalid's rmse: 0.217634\n",
      "[625]\ttrain's rmse: 0.198472\tvalid's rmse: 0.217564\n",
      "[650]\ttrain's rmse: 0.197818\tvalid's rmse: 0.217503\n",
      "[675]\ttrain's rmse: 0.197206\tvalid's rmse: 0.217436\n",
      "[700]\ttrain's rmse: 0.196594\tvalid's rmse: 0.217373\n",
      "[725]\ttrain's rmse: 0.195969\tvalid's rmse: 0.217315\n",
      "[750]\ttrain's rmse: 0.195405\tvalid's rmse: 0.21726\n",
      "[775]\ttrain's rmse: 0.194808\tvalid's rmse: 0.217213\n",
      "[800]\ttrain's rmse: 0.194239\tvalid's rmse: 0.217168\n",
      "[825]\ttrain's rmse: 0.193672\tvalid's rmse: 0.217121\n",
      "[850]\ttrain's rmse: 0.193136\tvalid's rmse: 0.217075\n",
      "[875]\ttrain's rmse: 0.192604\tvalid's rmse: 0.217039\n",
      "[900]\ttrain's rmse: 0.192071\tvalid's rmse: 0.216999\n",
      "[925]\ttrain's rmse: 0.191569\tvalid's rmse: 0.216969\n",
      "[950]\ttrain's rmse: 0.191056\tvalid's rmse: 0.216943\n",
      "[975]\ttrain's rmse: 0.190547\tvalid's rmse: 0.216914\n",
      "[1000]\ttrain's rmse: 0.190035\tvalid's rmse: 0.216876\n",
      "[1025]\ttrain's rmse: 0.189542\tvalid's rmse: 0.216842\n",
      "[1050]\ttrain's rmse: 0.189067\tvalid's rmse: 0.216809\n",
      "[1075]\ttrain's rmse: 0.188584\tvalid's rmse: 0.216784\n",
      "[1100]\ttrain's rmse: 0.188125\tvalid's rmse: 0.216755\n",
      "[1125]\ttrain's rmse: 0.187659\tvalid's rmse: 0.216733\n",
      "[1150]\ttrain's rmse: 0.187212\tvalid's rmse: 0.21671\n",
      "[1175]\ttrain's rmse: 0.186767\tvalid's rmse: 0.216687\n",
      "[1200]\ttrain's rmse: 0.186306\tvalid's rmse: 0.216664\n",
      "[1225]\ttrain's rmse: 0.185839\tvalid's rmse: 0.216641\n",
      "[1250]\ttrain's rmse: 0.185417\tvalid's rmse: 0.216614\n",
      "[1275]\ttrain's rmse: 0.184991\tvalid's rmse: 0.216587\n",
      "[1300]\ttrain's rmse: 0.184553\tvalid's rmse: 0.216574\n",
      "[1325]\ttrain's rmse: 0.184137\tvalid's rmse: 0.216556\n",
      "[1350]\ttrain's rmse: 0.183709\tvalid's rmse: 0.216539\n",
      "[1375]\ttrain's rmse: 0.183299\tvalid's rmse: 0.216523\n",
      "[1400]\ttrain's rmse: 0.182879\tvalid's rmse: 0.216503\n",
      "[1425]\ttrain's rmse: 0.18247\tvalid's rmse: 0.216489\n",
      "[1450]\ttrain's rmse: 0.182066\tvalid's rmse: 0.21647\n",
      "[1475]\ttrain's rmse: 0.181674\tvalid's rmse: 0.216459\n",
      "[1500]\ttrain's rmse: 0.181293\tvalid's rmse: 0.216442\n",
      "[1525]\ttrain's rmse: 0.1809\tvalid's rmse: 0.216423\n",
      "[1550]\ttrain's rmse: 0.180521\tvalid's rmse: 0.216405\n",
      "[1575]\ttrain's rmse: 0.180139\tvalid's rmse: 0.21639\n",
      "[1600]\ttrain's rmse: 0.179763\tvalid's rmse: 0.216374\n",
      "[1625]\ttrain's rmse: 0.179385\tvalid's rmse: 0.216352\n",
      "[1650]\ttrain's rmse: 0.179018\tvalid's rmse: 0.216339\n",
      "[1675]\ttrain's rmse: 0.178645\tvalid's rmse: 0.216321\n",
      "[1700]\ttrain's rmse: 0.178282\tvalid's rmse: 0.216311\n",
      "[1725]\ttrain's rmse: 0.177912\tvalid's rmse: 0.216299\n",
      "[1750]\ttrain's rmse: 0.177555\tvalid's rmse: 0.21629\n",
      "[1775]\ttrain's rmse: 0.177202\tvalid's rmse: 0.216272\n",
      "[1800]\ttrain's rmse: 0.176846\tvalid's rmse: 0.216263\n",
      "[1825]\ttrain's rmse: 0.176496\tvalid's rmse: 0.216246\n",
      "[1850]\ttrain's rmse: 0.176136\tvalid's rmse: 0.216232\n",
      "[1875]\ttrain's rmse: 0.175803\tvalid's rmse: 0.216222\n",
      "[1900]\ttrain's rmse: 0.175445\tvalid's rmse: 0.216209\n",
      "[1925]\ttrain's rmse: 0.1751\tvalid's rmse: 0.216196\n",
      "[1950]\ttrain's rmse: 0.174761\tvalid's rmse: 0.216187\n",
      "[1975]\ttrain's rmse: 0.174435\tvalid's rmse: 0.216177\n",
      "[2000]\ttrain's rmse: 0.174094\tvalid's rmse: 0.216173\n",
      "[2025]\ttrain's rmse: 0.173776\tvalid's rmse: 0.216167\n",
      "[2050]\ttrain's rmse: 0.173436\tvalid's rmse: 0.216157\n",
      "[2075]\ttrain's rmse: 0.173098\tvalid's rmse: 0.216158\n",
      "[2100]\ttrain's rmse: 0.172781\tvalid's rmse: 0.216152\n",
      "[2125]\ttrain's rmse: 0.17247\tvalid's rmse: 0.216147\n",
      "[2150]\ttrain's rmse: 0.17215\tvalid's rmse: 0.216151\n",
      "[2175]\ttrain's rmse: 0.171847\tvalid's rmse: 0.216146\n",
      "Early stopping, best iteration is:\n",
      "[2127]\ttrain's rmse: 0.172444\tvalid's rmse: 0.216145\n",
      "1530465380.7683425\n"
     ]
    }
   ],
   "source": [
    "print(time.time())\n",
    "\n",
    "lgbm_params =  {\n",
    "    'task': 'train',\n",
    "    'boosting_type': 'gbdt',\n",
    "    'objective': 'regression',\n",
    "    'metric': 'rmse',\n",
    "    'num_leaves': 430,\n",
    "    'feature_fraction': 0.5,\n",
    "    'bagging_fraction': 0.75,\n",
    "    'bagging_freq': 2,\n",
    "    'learning_rate': 0.01,\n",
    "    'verbose': 0,\n",
    "    \"num_threads\": 8,\n",
    "}\n",
    "\n",
    "VALID = True\n",
    "\n",
    "if VALID:\n",
    "    X_train, X_valid, y_train, y_valid = train_test_split(X, y, test_size=0.10, random_state=23)\n",
    "    \n",
    "    # LGBM Dataset Formatting \n",
    "    lgtrain = lgb.Dataset(X_train, y_train,\n",
    "                    feature_name=tfvocab,\n",
    "                    categorical_feature = categorical)\n",
    "    lgvalid = lgb.Dataset(X_valid, y_valid,\n",
    "                    feature_name=tfvocab,\n",
    "                    categorical_feature = categorical)\n",
    "    \n",
    "    lgb_clf = lgb.train(\n",
    "        lgbm_params,\n",
    "        lgtrain,\n",
    "        num_boost_round=20000,\n",
    "        valid_sets=[lgtrain, lgvalid],\n",
    "        valid_names=['train','valid'],\n",
    "        early_stopping_rounds=50,\n",
    "        verbose_eval=25\n",
    "    )\n",
    "\n",
    "else:\n",
    "    # LGBM Dataset Formatting \n",
    "    lgtrain = lgb.Dataset(X, y,\n",
    "                          feature_name = tfvocab,\n",
    "                          categorical_feature = categorical)\n",
    "    # del X; gc.collect()\n",
    "    # Go Go Go\n",
    "    lgbm_params[\"silent\"] = False\n",
    "    lgbm_params[\"verbose\"] = 1\n",
    "    lgb_clf = lgb.train(\n",
    "        lgbm_params,\n",
    "        lgtrain,\n",
    "        num_boost_round=1800,\n",
    "    )\n",
    "print(time.time())"
   ]
  },
  {
   "cell_type": "code",
   "execution_count": 60,
   "metadata": {
    "scrolled": true
   },
   "outputs": [
    {
     "name": "stdout",
     "output_type": "stream",
     "text": [
      "RMSE: 0.216145023309\n"
     ]
    }
   ],
   "source": [
    "print('RMSE:', np.sqrt(metrics.mean_squared_error(y_valid, lgb_clf.predict(X_valid))))"
   ]
  },
  {
   "cell_type": "code",
   "execution_count": 61,
   "metadata": {
    "scrolled": false
   },
   "outputs": [
    {
     "data": {
      "image/png": "[encoded data removed]",
      "text/plain": [
       "<Figure size 504x720 with 1 Axes>"
      ]
     },
     "metadata": {},
     "output_type": "display_data"
    }
   ],
   "source": [
    "# Feature Importance Plot\n",
    "f, ax = plt.subplots(figsize=[7,10])\n",
    "lgb.plot_importance(lgb_clf, max_num_features=50, ax=ax)\n",
    "plt.title(\"Light GBM Feature Importance\")\n",
    "plt.savefig('feature_import.png')"
   ]
  },
  {
   "cell_type": "code",
   "execution_count": 62,
   "metadata": {},
   "outputs": [
    {
     "data": {
      "text/plain": [
       "2127"
      ]
     },
     "execution_count": 62,
     "metadata": {},
     "output_type": "execute_result"
    }
   ],
   "source": [
    "best_tree_count = lgb_clf.best_iteration\n",
    "best_tree_count"
   ]
  },
  {
   "cell_type": "code",
   "execution_count": 63,
   "metadata": {},
   "outputs": [
    {
     "name": "stderr",
     "output_type": "stream",
     "text": [
      "/usr/local/lib/python3.6/site-packages/lightgbm/basic.py:450: UserWarning: Converting data to scipy sparse matrix.\n",
      "  warnings.warn('Converting data to scipy sparse matrix.')\n"
     ]
    }
   ],
   "source": [
    "lgsub = pd.DataFrame(lgb_clf.predict(testing), columns=[\"deal_probability\"],index=testdex)\n",
    "lgsub['deal_probability'].clip(0.0, 1.0, inplace=True) # Between 0 and 1\n",
    "lgsub.to_csv(\"lgsub_with_features.csv\",index=True,header=True)"
   ]
  },
  {
   "cell_type": "markdown",
   "metadata": {},
   "source": [
    "# Using folds"
   ]
  },
  {
   "cell_type": "code",
   "execution_count": 114,
   "metadata": {},
   "outputs": [],
   "source": [
    "from sklearn.model_selection import KFold\n",
    "kf = KFold(n_splits = 7, shuffle=True, random_state=42)\n",
    "\n",
    "models = []\n",
    "fold_pred = []\n",
    "fold_val = []\n",
    "w = np.zeros((testing.shape[0]))\n",
    "\n",
    "X = csr_matrix(X)"
   ]
  },
  {
   "cell_type": "code",
   "execution_count": null,
   "metadata": {
    "scrolled": true
   },
   "outputs": [
    {
     "name": "stdout",
     "output_type": "stream",
     "text": [
      "TRAIN:  1288649 TEST: 214775\n"
     ]
    },
    {
     "name": "stderr",
     "output_type": "stream",
     "text": [
      "/usr/local/lib/python3.6/site-packages/lightgbm/basic.py:1040: UserWarning: Using categorical_feature in Dataset.\n",
      "  warnings.warn('Using categorical_feature in Dataset.')\n",
      "/usr/local/lib/python3.6/site-packages/lightgbm/basic.py:685: UserWarning: categorical_feature in param dict is overridden.\n",
      "  warnings.warn('categorical_feature in param dict is overridden.')\n"
     ]
    },
    {
     "name": "stdout",
     "output_type": "stream",
     "text": [
      "0.0458989138104\n",
      "TRAIN:  1288649 TEST: 214775\n"
     ]
    }
   ],
   "source": [
    "for train_index, test_index in kf.split(X, y):\n",
    "    print(\"TRAIN: \", len(train_index), \"TEST:\", len(test_index))\n",
    "    X_train, X_test = X[train_index], X[test_index]\n",
    "    y_train, y_test = y[train_index], y[test_index]\n",
    "\n",
    "    lgtrain = lgb.Dataset(X_train, y_train,\n",
    "                          feature_name = tfvocab,\n",
    "                          categorical_feature = categorical)\n",
    "\n",
    "    lgb_clf = lgb.train(\n",
    "        lgbm_params,\n",
    "        lgtrain,\n",
    "        num_boost_round=best_tree_count, # 2454\n",
    "    )\n",
    "\n",
    "    pred = lgb_clf.predict(X_test)\n",
    "    w += lgb_clf.predict(testing)\n",
    "    \n",
    "    models.append(lgb_clf)\n",
    "    fold_pred.append(pred)\n",
    "    fold_val.append(test_index)\n",
    "    \n",
    "    print(mean_squared_error(y_test, pred))\n",
    "w /= 7"
   ]
  },
  {
   "cell_type": "code",
   "execution_count": 226,
   "metadata": {},
   "outputs": [],
   "source": [
    "with open(\"folds.pickle\", \"wb\") as f:\n",
    "    pickle.dump(fold_pred, f)\n",
    "    pickle.dump(fold_val, f)\n",
    "    pickle.dump(models, f)"
   ]
  },
  {
   "cell_type": "code",
   "execution_count": 79,
   "metadata": {},
   "outputs": [],
   "source": [
    "import pickle\n",
    "with open(\"folds.pickle\", \"rb\") as f:\n",
    "    fold_pred = pickle.load(f)\n",
    "    fold_val = pickle.load(f)\n",
    "    models = pickle.load(f)"
   ]
  },
  {
   "cell_type": "code",
   "execution_count": 81,
   "metadata": {
    "scrolled": true
   },
   "outputs": [
    {
     "name": "stderr",
     "output_type": "stream",
     "text": [
      "/usr/local/lib/python3.6/site-packages/lightgbm/basic.py:450: UserWarning: Converting data to scipy sparse matrix.\n",
      "  warnings.warn('Converting data to scipy sparse matrix.')\n"
     ]
    }
   ],
   "source": [
    "oofs = np.empty((len(traindex), len(fold_val)))\n",
    "oof_predictions = np.zeros((len(testdex), len(fold_val)))\n",
    "oofs.fill(np.nan)\n",
    "\n",
    "for i in range(len(fold_val)):\n",
    "    oofs[fold_val[i], i] = fold_pred[i]\n",
    "    oof_predictions[:, i] = models[i].predict(testing)"
   ]
  },
  {
   "cell_type": "code",
   "execution_count": 90,
   "metadata": {},
   "outputs": [],
   "source": [
    "pd.DataFrame({\"item_id\": np.array(traindex),\n",
    "              \"train_off_predictions\": np.nanmean(oofs, axis=1)}).to_csv(\"train_oof_predictions2.csv\")\n",
    "pd.DataFrame({\"item_id\": np.array(testdex),\n",
    "              \"test_predictions\": np.nanmean(oof_predictions, axis=1)}).to_csv(\"test_predictions_folds2.csv\")"
   ]
  },
  {
   "cell_type": "code",
   "execution_count": 109,
   "metadata": {
    "scrolled": true
   },
   "outputs": [],
   "source": [
    "lgsub = pd.DataFrame(w, columns=[\"deal_probability\"], index=testdex)\n",
    "lgsub['deal_probability'].clip(0.0, 1.0, inplace=True)\n",
    "lgsub.to_csv(\"lgsub_with_features.csv\",index=True,header=True)"
   ]
  },
  {
   "cell_type": "code",
   "execution_count": 230,
   "metadata": {},
   "outputs": [
    {
     "data": {
      "text/plain": [
       "118"
      ]
     },
     "execution_count": 230,
     "metadata": {},
     "output_type": "execute_result"
    }
   ],
   "source": [
    "gc.collect()"
   ]
  },
  {
   "cell_type": "code",
   "execution_count": 129,
   "metadata": {},
   "outputs": [],
   "source": [
    "# !kaggle competitions submit -c avito-demand-prediction -f lgsub_with_features.csv -m LGBBaselineWithFeatures"
   ]
  }
 ],
 "metadata": {
  "kernelspec": {
   "display_name": "Python 3",
   "language": "python",
   "name": "python3"
  },
  "language_info": {
   "codemirror_mode": {
    "name": "ipython",
    "version": 3
   },
   "file_extension": ".py",
   "mimetype": "text/x-python",
   "name": "python",
   "nbconvert_exporter": "python",
   "pygments_lexer": "ipython3",
   "version": "3.6.1"
  }
 },
 "nbformat": 4,
 "nbformat_minor": 2
}
